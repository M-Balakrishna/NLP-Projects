{
 "cells": [
  {
   "cell_type": "code",
   "execution_count": 1,
   "id": "36236f6e",
   "metadata": {},
   "outputs": [],
   "source": [
    "import pandas as pd \n",
    "import numpy as np \n",
    "import matplotlib.pyplot as plt \n",
    "import seaborn as sns "
   ]
  },
  {
   "cell_type": "code",
   "execution_count": 2,
   "id": "f336278e",
   "metadata": {},
   "outputs": [
    {
     "data": {
      "text/html": [
       "<div>\n",
       "<style scoped>\n",
       "    .dataframe tbody tr th:only-of-type {\n",
       "        vertical-align: middle;\n",
       "    }\n",
       "\n",
       "    .dataframe tbody tr th {\n",
       "        vertical-align: top;\n",
       "    }\n",
       "\n",
       "    .dataframe thead th {\n",
       "        text-align: right;\n",
       "    }\n",
       "</style>\n",
       "<table border=\"1\" class=\"dataframe\">\n",
       "  <thead>\n",
       "    <tr style=\"text-align: right;\">\n",
       "      <th></th>\n",
       "      <th>Unnamed: 0</th>\n",
       "      <th>ProductId</th>\n",
       "      <th>UserId</th>\n",
       "      <th>ProfileName</th>\n",
       "      <th>HelpfulnessNumerator</th>\n",
       "      <th>HelpfulnessDenominator</th>\n",
       "      <th>Score</th>\n",
       "      <th>Time</th>\n",
       "      <th>ReviewSummary</th>\n",
       "      <th>ReviewText</th>\n",
       "    </tr>\n",
       "  </thead>\n",
       "  <tbody>\n",
       "    <tr>\n",
       "      <th>0</th>\n",
       "      <td>0</td>\n",
       "      <td>B001E4KFG0</td>\n",
       "      <td>A3SGXH7AUHU8GW</td>\n",
       "      <td>delmartian</td>\n",
       "      <td>1</td>\n",
       "      <td>1</td>\n",
       "      <td>5</td>\n",
       "      <td>1303862400</td>\n",
       "      <td>Good Quality Dog Food</td>\n",
       "      <td>I have bought several of the Vitality canned ...</td>\n",
       "    </tr>\n",
       "    <tr>\n",
       "      <th>1</th>\n",
       "      <td>1</td>\n",
       "      <td>B00813GRG4</td>\n",
       "      <td>A1D87F6ZCVE5NK</td>\n",
       "      <td>dll pa</td>\n",
       "      <td>0</td>\n",
       "      <td>0</td>\n",
       "      <td>1</td>\n",
       "      <td>1346976000</td>\n",
       "      <td>Not as Advertised</td>\n",
       "      <td>Product arrived labeled as Jumbo Salted Peanu...</td>\n",
       "    </tr>\n",
       "    <tr>\n",
       "      <th>2</th>\n",
       "      <td>2</td>\n",
       "      <td>B000LQOCH0</td>\n",
       "      <td>ABXLMWJIXXAIN</td>\n",
       "      <td>Natalia Corres \"Natalia Corres\"</td>\n",
       "      <td>1</td>\n",
       "      <td>1</td>\n",
       "      <td>4</td>\n",
       "      <td>1219017600</td>\n",
       "      <td>\"Delight\" says it all</td>\n",
       "      <td>This is a confection that has been around a f...</td>\n",
       "    </tr>\n",
       "    <tr>\n",
       "      <th>3</th>\n",
       "      <td>3</td>\n",
       "      <td>B000UA0QIQ</td>\n",
       "      <td>A395BORC6FGVXV</td>\n",
       "      <td>Karl</td>\n",
       "      <td>3</td>\n",
       "      <td>3</td>\n",
       "      <td>2</td>\n",
       "      <td>1307923200</td>\n",
       "      <td>Cough Medicine</td>\n",
       "      <td>If you are looking for the secret ingredient ...</td>\n",
       "    </tr>\n",
       "    <tr>\n",
       "      <th>4</th>\n",
       "      <td>4</td>\n",
       "      <td>B006K2ZZ7K</td>\n",
       "      <td>A1UQRSCLF8GW1T</td>\n",
       "      <td>Michael D. Bigham \"M. Wassir\"</td>\n",
       "      <td>0</td>\n",
       "      <td>0</td>\n",
       "      <td>5</td>\n",
       "      <td>1350777600</td>\n",
       "      <td>Great taffy</td>\n",
       "      <td>Great taffy at a great price.  There was a wi...</td>\n",
       "    </tr>\n",
       "  </tbody>\n",
       "</table>\n",
       "</div>"
      ],
      "text/plain": [
       "   Unnamed: 0    ProductId           UserId                       ProfileName  \\\n",
       "0           0   B001E4KFG0   A3SGXH7AUHU8GW                        delmartian   \n",
       "1           1   B00813GRG4   A1D87F6ZCVE5NK                            dll pa   \n",
       "2           2   B000LQOCH0    ABXLMWJIXXAIN   Natalia Corres \"Natalia Corres\"   \n",
       "3           3   B000UA0QIQ   A395BORC6FGVXV                              Karl   \n",
       "4           4   B006K2ZZ7K   A1UQRSCLF8GW1T     Michael D. Bigham \"M. Wassir\"   \n",
       "\n",
       "   HelpfulnessNumerator  HelpfulnessDenominator  Score        Time  \\\n",
       "0                     1                       1      5  1303862400   \n",
       "1                     0                       0      1  1346976000   \n",
       "2                     1                       1      4  1219017600   \n",
       "3                     3                       3      2  1307923200   \n",
       "4                     0                       0      5  1350777600   \n",
       "\n",
       "            ReviewSummary                                         ReviewText  \n",
       "0   Good Quality Dog Food   I have bought several of the Vitality canned ...  \n",
       "1       Not as Advertised   Product arrived labeled as Jumbo Salted Peanu...  \n",
       "2   \"Delight\" says it all   This is a confection that has been around a f...  \n",
       "3          Cough Medicine   If you are looking for the secret ingredient ...  \n",
       "4             Great taffy   Great taffy at a great price.  There was a wi...  "
      ]
     },
     "execution_count": 2,
     "metadata": {},
     "output_type": "execute_result"
    }
   ],
   "source": [
    "df=pd.read_csv(r\"Sentimentanalysis\")\n",
    "df.head()"
   ]
  },
  {
   "cell_type": "code",
   "execution_count": 3,
   "id": "f5e8f69c",
   "metadata": {
    "scrolled": true
   },
   "outputs": [
    {
     "data": {
      "text/plain": [
       "(568454, 10)"
      ]
     },
     "execution_count": 3,
     "metadata": {},
     "output_type": "execute_result"
    }
   ],
   "source": [
    "df.shape"
   ]
  },
  {
   "cell_type": "code",
   "execution_count": 4,
   "id": "46cfa578",
   "metadata": {},
   "outputs": [
    {
     "name": "stdout",
     "output_type": "stream",
     "text": [
      "<class 'pandas.core.frame.DataFrame'>\n",
      "RangeIndex: 568454 entries, 0 to 568453\n",
      "Data columns (total 10 columns):\n",
      " #   Column                  Non-Null Count   Dtype \n",
      "---  ------                  --------------   ----- \n",
      " 0   Unnamed: 0              568454 non-null  int64 \n",
      " 1   ProductId               568454 non-null  object\n",
      " 2   UserId                  568454 non-null  object\n",
      " 3   ProfileName             568454 non-null  object\n",
      " 4   HelpfulnessNumerator    568454 non-null  int64 \n",
      " 5   HelpfulnessDenominator  568454 non-null  int64 \n",
      " 6   Score                   568454 non-null  int64 \n",
      " 7   Time                    568454 non-null  int64 \n",
      " 8   ReviewSummary           568454 non-null  object\n",
      " 9   ReviewText              568454 non-null  object\n",
      "dtypes: int64(5), object(5)\n",
      "memory usage: 43.4+ MB\n"
     ]
    }
   ],
   "source": [
    "df.info()"
   ]
  },
  {
   "cell_type": "code",
   "execution_count": 5,
   "id": "8669a6e4",
   "metadata": {
    "scrolled": true
   },
   "outputs": [
    {
     "data": {
      "text/plain": [
       "Unnamed: 0                0\n",
       "ProductId                 0\n",
       "UserId                    0\n",
       "ProfileName               0\n",
       "HelpfulnessNumerator      0\n",
       "HelpfulnessDenominator    0\n",
       "Score                     0\n",
       "Time                      0\n",
       "ReviewSummary             0\n",
       "ReviewText                0\n",
       "dtype: int64"
      ]
     },
     "execution_count": 5,
     "metadata": {},
     "output_type": "execute_result"
    }
   ],
   "source": [
    "df.isnull().sum() "
   ]
  },
  {
   "cell_type": "code",
   "execution_count": 6,
   "id": "1f03762f",
   "metadata": {},
   "outputs": [],
   "source": [
    "#replacing null values with space in review summary column\n",
    "df[\"ReviewSummary\"]=df[\"ReviewSummary\"].replace(np.nan,\" \") "
   ]
  },
  {
   "cell_type": "code",
   "execution_count": 7,
   "id": "d8fe80fb",
   "metadata": {},
   "outputs": [
    {
     "data": {
      "text/plain": [
       "Unnamed: 0                0\n",
       "ProductId                 0\n",
       "UserId                    0\n",
       "ProfileName               0\n",
       "HelpfulnessNumerator      0\n",
       "HelpfulnessDenominator    0\n",
       "Score                     0\n",
       "Time                      0\n",
       "ReviewSummary             0\n",
       "ReviewText                0\n",
       "dtype: int64"
      ]
     },
     "execution_count": 7,
     "metadata": {},
     "output_type": "execute_result"
    }
   ],
   "source": [
    "#now checking null values\n",
    "df.isnull().sum()"
   ]
  },
  {
   "cell_type": "code",
   "execution_count": 8,
   "id": "8905e36d",
   "metadata": {},
   "outputs": [
    {
     "data": {
      "text/html": [
       "<div>\n",
       "<style scoped>\n",
       "    .dataframe tbody tr th:only-of-type {\n",
       "        vertical-align: middle;\n",
       "    }\n",
       "\n",
       "    .dataframe tbody tr th {\n",
       "        vertical-align: top;\n",
       "    }\n",
       "\n",
       "    .dataframe thead th {\n",
       "        text-align: right;\n",
       "    }\n",
       "</style>\n",
       "<table border=\"1\" class=\"dataframe\">\n",
       "  <thead>\n",
       "    <tr style=\"text-align: right;\">\n",
       "      <th></th>\n",
       "      <th>Unnamed: 0</th>\n",
       "      <th>ProductId</th>\n",
       "      <th>UserId</th>\n",
       "      <th>ProfileName</th>\n",
       "      <th>HelpfulnessNumerator</th>\n",
       "      <th>HelpfulnessDenominator</th>\n",
       "      <th>Score</th>\n",
       "      <th>Time</th>\n",
       "      <th>ReviewSummary</th>\n",
       "      <th>ReviewText</th>\n",
       "      <th>text</th>\n",
       "    </tr>\n",
       "  </thead>\n",
       "  <tbody>\n",
       "    <tr>\n",
       "      <th>0</th>\n",
       "      <td>0</td>\n",
       "      <td>B001E4KFG0</td>\n",
       "      <td>A3SGXH7AUHU8GW</td>\n",
       "      <td>delmartian</td>\n",
       "      <td>1</td>\n",
       "      <td>1</td>\n",
       "      <td>5</td>\n",
       "      <td>1303862400</td>\n",
       "      <td>Good Quality Dog Food</td>\n",
       "      <td>I have bought several of the Vitality canned ...</td>\n",
       "      <td>Good Quality Dog Food  I have bought several ...</td>\n",
       "    </tr>\n",
       "    <tr>\n",
       "      <th>1</th>\n",
       "      <td>1</td>\n",
       "      <td>B00813GRG4</td>\n",
       "      <td>A1D87F6ZCVE5NK</td>\n",
       "      <td>dll pa</td>\n",
       "      <td>0</td>\n",
       "      <td>0</td>\n",
       "      <td>1</td>\n",
       "      <td>1346976000</td>\n",
       "      <td>Not as Advertised</td>\n",
       "      <td>Product arrived labeled as Jumbo Salted Peanu...</td>\n",
       "      <td>Not as Advertised  Product arrived labeled as...</td>\n",
       "    </tr>\n",
       "    <tr>\n",
       "      <th>2</th>\n",
       "      <td>2</td>\n",
       "      <td>B000LQOCH0</td>\n",
       "      <td>ABXLMWJIXXAIN</td>\n",
       "      <td>Natalia Corres \"Natalia Corres\"</td>\n",
       "      <td>1</td>\n",
       "      <td>1</td>\n",
       "      <td>4</td>\n",
       "      <td>1219017600</td>\n",
       "      <td>\"Delight\" says it all</td>\n",
       "      <td>This is a confection that has been around a f...</td>\n",
       "      <td>\"Delight\" says it all  This is a confection t...</td>\n",
       "    </tr>\n",
       "    <tr>\n",
       "      <th>3</th>\n",
       "      <td>3</td>\n",
       "      <td>B000UA0QIQ</td>\n",
       "      <td>A395BORC6FGVXV</td>\n",
       "      <td>Karl</td>\n",
       "      <td>3</td>\n",
       "      <td>3</td>\n",
       "      <td>2</td>\n",
       "      <td>1307923200</td>\n",
       "      <td>Cough Medicine</td>\n",
       "      <td>If you are looking for the secret ingredient ...</td>\n",
       "      <td>Cough Medicine  If you are looking for the se...</td>\n",
       "    </tr>\n",
       "    <tr>\n",
       "      <th>4</th>\n",
       "      <td>4</td>\n",
       "      <td>B006K2ZZ7K</td>\n",
       "      <td>A1UQRSCLF8GW1T</td>\n",
       "      <td>Michael D. Bigham \"M. Wassir\"</td>\n",
       "      <td>0</td>\n",
       "      <td>0</td>\n",
       "      <td>5</td>\n",
       "      <td>1350777600</td>\n",
       "      <td>Great taffy</td>\n",
       "      <td>Great taffy at a great price.  There was a wi...</td>\n",
       "      <td>Great taffy  Great taffy at a great price.  T...</td>\n",
       "    </tr>\n",
       "  </tbody>\n",
       "</table>\n",
       "</div>"
      ],
      "text/plain": [
       "   Unnamed: 0    ProductId           UserId                       ProfileName  \\\n",
       "0           0   B001E4KFG0   A3SGXH7AUHU8GW                        delmartian   \n",
       "1           1   B00813GRG4   A1D87F6ZCVE5NK                            dll pa   \n",
       "2           2   B000LQOCH0    ABXLMWJIXXAIN   Natalia Corres \"Natalia Corres\"   \n",
       "3           3   B000UA0QIQ   A395BORC6FGVXV                              Karl   \n",
       "4           4   B006K2ZZ7K   A1UQRSCLF8GW1T     Michael D. Bigham \"M. Wassir\"   \n",
       "\n",
       "   HelpfulnessNumerator  HelpfulnessDenominator  Score        Time  \\\n",
       "0                     1                       1      5  1303862400   \n",
       "1                     0                       0      1  1346976000   \n",
       "2                     1                       1      4  1219017600   \n",
       "3                     3                       3      2  1307923200   \n",
       "4                     0                       0      5  1350777600   \n",
       "\n",
       "            ReviewSummary                                         ReviewText  \\\n",
       "0   Good Quality Dog Food   I have bought several of the Vitality canned ...   \n",
       "1       Not as Advertised   Product arrived labeled as Jumbo Salted Peanu...   \n",
       "2   \"Delight\" says it all   This is a confection that has been around a f...   \n",
       "3          Cough Medicine   If you are looking for the secret ingredient ...   \n",
       "4             Great taffy   Great taffy at a great price.  There was a wi...   \n",
       "\n",
       "                                                text  \n",
       "0   Good Quality Dog Food  I have bought several ...  \n",
       "1   Not as Advertised  Product arrived labeled as...  \n",
       "2   \"Delight\" says it all  This is a confection t...  \n",
       "3   Cough Medicine  If you are looking for the se...  \n",
       "4   Great taffy  Great taffy at a great price.  T...  "
      ]
     },
     "execution_count": 8,
     "metadata": {},
     "output_type": "execute_result"
    }
   ],
   "source": [
    "# creating the new text column that combines both review summary and review text\n",
    "df[\"text\"]=df[\"ReviewSummary\"]+\" \"+df[\"ReviewText\"]\n",
    "df.head() "
   ]
  },
  {
   "cell_type": "code",
   "execution_count": 9,
   "id": "69c9ff59",
   "metadata": {},
   "outputs": [],
   "source": [
    "df.columns=['UniqueRowNo', 'ProductId', 'UserId', 'ProfileName',\n",
    "       'HelpfulnessNumerator', 'HelpfulnessDenominator', 'Score', 'Time',\n",
    "       'ReviewSummary', 'ReviewText','text']"
   ]
  },
  {
   "cell_type": "code",
   "execution_count": 10,
   "id": "725d6658",
   "metadata": {},
   "outputs": [],
   "source": [
    "#making the unique row number column\n",
    "df[\"UniqueRowNo\"]=np.arange(1,df.shape[0]+1) "
   ]
  },
  {
   "cell_type": "code",
   "execution_count": 11,
   "id": "8cf0f030",
   "metadata": {},
   "outputs": [
    {
     "data": {
      "text/html": [
       "<div>\n",
       "<style scoped>\n",
       "    .dataframe tbody tr th:only-of-type {\n",
       "        vertical-align: middle;\n",
       "    }\n",
       "\n",
       "    .dataframe tbody tr th {\n",
       "        vertical-align: top;\n",
       "    }\n",
       "\n",
       "    .dataframe thead th {\n",
       "        text-align: right;\n",
       "    }\n",
       "</style>\n",
       "<table border=\"1\" class=\"dataframe\">\n",
       "  <thead>\n",
       "    <tr style=\"text-align: right;\">\n",
       "      <th></th>\n",
       "      <th>UniqueRowNo</th>\n",
       "      <th>ProductId</th>\n",
       "      <th>UserId</th>\n",
       "      <th>ProfileName</th>\n",
       "      <th>HelpfulnessNumerator</th>\n",
       "      <th>HelpfulnessDenominator</th>\n",
       "      <th>Score</th>\n",
       "      <th>Time</th>\n",
       "      <th>ReviewSummary</th>\n",
       "      <th>ReviewText</th>\n",
       "      <th>text</th>\n",
       "    </tr>\n",
       "  </thead>\n",
       "  <tbody>\n",
       "    <tr>\n",
       "      <th>0</th>\n",
       "      <td>1</td>\n",
       "      <td>B001E4KFG0</td>\n",
       "      <td>A3SGXH7AUHU8GW</td>\n",
       "      <td>delmartian</td>\n",
       "      <td>1</td>\n",
       "      <td>1</td>\n",
       "      <td>5</td>\n",
       "      <td>1303862400</td>\n",
       "      <td>Good Quality Dog Food</td>\n",
       "      <td>I have bought several of the Vitality canned ...</td>\n",
       "      <td>Good Quality Dog Food  I have bought several ...</td>\n",
       "    </tr>\n",
       "    <tr>\n",
       "      <th>1</th>\n",
       "      <td>2</td>\n",
       "      <td>B00813GRG4</td>\n",
       "      <td>A1D87F6ZCVE5NK</td>\n",
       "      <td>dll pa</td>\n",
       "      <td>0</td>\n",
       "      <td>0</td>\n",
       "      <td>1</td>\n",
       "      <td>1346976000</td>\n",
       "      <td>Not as Advertised</td>\n",
       "      <td>Product arrived labeled as Jumbo Salted Peanu...</td>\n",
       "      <td>Not as Advertised  Product arrived labeled as...</td>\n",
       "    </tr>\n",
       "    <tr>\n",
       "      <th>2</th>\n",
       "      <td>3</td>\n",
       "      <td>B000LQOCH0</td>\n",
       "      <td>ABXLMWJIXXAIN</td>\n",
       "      <td>Natalia Corres \"Natalia Corres\"</td>\n",
       "      <td>1</td>\n",
       "      <td>1</td>\n",
       "      <td>4</td>\n",
       "      <td>1219017600</td>\n",
       "      <td>\"Delight\" says it all</td>\n",
       "      <td>This is a confection that has been around a f...</td>\n",
       "      <td>\"Delight\" says it all  This is a confection t...</td>\n",
       "    </tr>\n",
       "    <tr>\n",
       "      <th>3</th>\n",
       "      <td>4</td>\n",
       "      <td>B000UA0QIQ</td>\n",
       "      <td>A395BORC6FGVXV</td>\n",
       "      <td>Karl</td>\n",
       "      <td>3</td>\n",
       "      <td>3</td>\n",
       "      <td>2</td>\n",
       "      <td>1307923200</td>\n",
       "      <td>Cough Medicine</td>\n",
       "      <td>If you are looking for the secret ingredient ...</td>\n",
       "      <td>Cough Medicine  If you are looking for the se...</td>\n",
       "    </tr>\n",
       "    <tr>\n",
       "      <th>4</th>\n",
       "      <td>5</td>\n",
       "      <td>B006K2ZZ7K</td>\n",
       "      <td>A1UQRSCLF8GW1T</td>\n",
       "      <td>Michael D. Bigham \"M. Wassir\"</td>\n",
       "      <td>0</td>\n",
       "      <td>0</td>\n",
       "      <td>5</td>\n",
       "      <td>1350777600</td>\n",
       "      <td>Great taffy</td>\n",
       "      <td>Great taffy at a great price.  There was a wi...</td>\n",
       "      <td>Great taffy  Great taffy at a great price.  T...</td>\n",
       "    </tr>\n",
       "  </tbody>\n",
       "</table>\n",
       "</div>"
      ],
      "text/plain": [
       "   UniqueRowNo    ProductId           UserId  \\\n",
       "0            1   B001E4KFG0   A3SGXH7AUHU8GW   \n",
       "1            2   B00813GRG4   A1D87F6ZCVE5NK   \n",
       "2            3   B000LQOCH0    ABXLMWJIXXAIN   \n",
       "3            4   B000UA0QIQ   A395BORC6FGVXV   \n",
       "4            5   B006K2ZZ7K   A1UQRSCLF8GW1T   \n",
       "\n",
       "                        ProfileName  HelpfulnessNumerator  \\\n",
       "0                        delmartian                     1   \n",
       "1                            dll pa                     0   \n",
       "2   Natalia Corres \"Natalia Corres\"                     1   \n",
       "3                              Karl                     3   \n",
       "4     Michael D. Bigham \"M. Wassir\"                     0   \n",
       "\n",
       "   HelpfulnessDenominator  Score        Time           ReviewSummary  \\\n",
       "0                       1      5  1303862400   Good Quality Dog Food   \n",
       "1                       0      1  1346976000       Not as Advertised   \n",
       "2                       1      4  1219017600   \"Delight\" says it all   \n",
       "3                       3      2  1307923200          Cough Medicine   \n",
       "4                       0      5  1350777600             Great taffy   \n",
       "\n",
       "                                          ReviewText  \\\n",
       "0   I have bought several of the Vitality canned ...   \n",
       "1   Product arrived labeled as Jumbo Salted Peanu...   \n",
       "2   This is a confection that has been around a f...   \n",
       "3   If you are looking for the secret ingredient ...   \n",
       "4   Great taffy at a great price.  There was a wi...   \n",
       "\n",
       "                                                text  \n",
       "0   Good Quality Dog Food  I have bought several ...  \n",
       "1   Not as Advertised  Product arrived labeled as...  \n",
       "2   \"Delight\" says it all  This is a confection t...  \n",
       "3   Cough Medicine  If you are looking for the se...  \n",
       "4   Great taffy  Great taffy at a great price.  T...  "
      ]
     },
     "execution_count": 11,
     "metadata": {},
     "output_type": "execute_result"
    }
   ],
   "source": [
    "df.head() "
   ]
  },
  {
   "cell_type": "code",
   "execution_count": 12,
   "id": "34334241",
   "metadata": {},
   "outputs": [],
   "source": [
    "#creating helpfulness column which is the fraction of HelpFulnessNumerator and HelpfulnessDenominator\n",
    "df[\"Helpfulness\"]=df[\"HelpfulnessNumerator\"]/df[\"HelpfulnessDenominator\"]"
   ]
  },
  {
   "cell_type": "code",
   "execution_count": 13,
   "id": "5cbd0614",
   "metadata": {},
   "outputs": [
    {
     "data": {
      "text/plain": [
       "0    1.0\n",
       "1    NaN\n",
       "2    1.0\n",
       "3    1.0\n",
       "4    NaN\n",
       "Name: Helpfulness, dtype: float64"
      ]
     },
     "execution_count": 13,
     "metadata": {},
     "output_type": "execute_result"
    }
   ],
   "source": [
    "df['Helpfulness'].head()"
   ]
  },
  {
   "cell_type": "code",
   "execution_count": 14,
   "id": "e6053442",
   "metadata": {},
   "outputs": [
    {
     "data": {
      "text/plain": [
       "0         1.0\n",
       "1         0.0\n",
       "2         1.0\n",
       "3         1.0\n",
       "4         0.0\n",
       "         ... \n",
       "568449    0.0\n",
       "568450    0.0\n",
       "568451    1.0\n",
       "568452    1.0\n",
       "568453    0.0\n",
       "Name: Helpfulness, Length: 568454, dtype: float64"
      ]
     },
     "execution_count": 14,
     "metadata": {},
     "output_type": "execute_result"
    }
   ],
   "source": [
    "#here we can see that helpfulness fraction contains nan,this is because 0/0 is not defined\n",
    "# we can replace nan with zero\n",
    "df[\"Helpfulness\"]=df[\"Helpfulness\"].replace(np.nan,0)\n",
    "df[\"Helpfulness\"] "
   ]
  },
  {
   "cell_type": "code",
   "execution_count": 15,
   "id": "12375730",
   "metadata": {
    "scrolled": true
   },
   "outputs": [
    {
     "name": "stdout",
     "output_type": "stream",
     "text": [
      "Minimum value of Helpfulness 0.0\n",
      "Maximum value of Helpfulness 3.0\n",
      "Average value of Helpfulness 0.4078619474101317\n",
      "Standard deviation of Helpfulness 0.46206838814307344\n"
     ]
    }
   ],
   "source": [
    "#The HelpfulnessNumerator\n",
    "print(\"Minimum value of Helpfulness\",df[\"Helpfulness\"].min())\n",
    "print(\"Maximum value of Helpfulness\",df[\"Helpfulness\"].max())\n",
    "print(\"Average value of Helpfulness\",df[\"Helpfulness\"].mean())\n",
    "print(\"Standard deviation of Helpfulness\",df[\"Helpfulness\"].std()) "
   ]
  },
  {
   "cell_type": "code",
   "execution_count": 16,
   "id": "1d07196f",
   "metadata": {},
   "outputs": [
    {
     "data": {
      "text/plain": [
       "(array([3.11171e+05, 3.21600e+04, 3.55760e+04, 1.89545e+05, 0.00000e+00,\n",
       "        1.00000e+00, 0.00000e+00, 0.00000e+00, 0.00000e+00, 1.00000e+00]),\n",
       " array([0. , 0.3, 0.6, 0.9, 1.2, 1.5, 1.8, 2.1, 2.4, 2.7, 3. ]),\n",
       " <BarContainer object of 10 artists>)"
      ]
     },
     "execution_count": 16,
     "metadata": {},
     "output_type": "execute_result"
    },
    {
     "data": {
      "image/png": "[encoded data removed]",
      "text/plain": [
       "<Figure size 640x480 with 1 Axes>"
      ]
     },
     "metadata": {},
     "output_type": "display_data"
    }
   ],
   "source": [
    "#distribution of helpfulness\n",
    "plt.hist(df[\"Helpfulness\"])"
   ]
  },
  {
   "cell_type": "code",
   "execution_count": 17,
   "id": "ff747293",
   "metadata": {},
   "outputs": [],
   "source": [
    "#creating a function to label Helpfulness\n",
    "def helpful(value):\n",
    "    if value>0.5:\n",
    "        return \">0.5\"\n",
    "    elif value<0.5 and value>0.25:\n",
    "        return \"<0.5\"\n",
    "    else:\n",
    "        return \"Useless\"\n",
    "    \n",
    "\n",
    "    "
   ]
  },
  {
   "cell_type": "code",
   "execution_count": 18,
   "id": "9f296431",
   "metadata": {},
   "outputs": [],
   "source": [
    "from tqdm import tqdm, tqdm_notebook"
   ]
  },
  {
   "cell_type": "code",
   "execution_count": 19,
   "id": "c2aec5e6",
   "metadata": {},
   "outputs": [],
   "source": [
    "# Register `pandas.progress_apply` and `pandas.Series.map_apply` with `tqdm`\n",
    "\n",
    "tqdm.pandas()"
   ]
  },
  {
   "cell_type": "code",
   "execution_count": 20,
   "id": "dd8d82e6",
   "metadata": {},
   "outputs": [
    {
     "name": "stderr",
     "output_type": "stream",
     "text": [
      "100%|██████████████████████████████████████████████████████████████████████| 568454/568454 [00:00<00:00, 603282.33it/s]\n"
     ]
    }
   ],
   "source": [
    "#creating new column for label encoding the helpfuness column\n",
    "df[\"HelpfulnessLabel\"]=df[\"Helpfulness\"].progress_apply(lambda x:helpful(x)) "
   ]
  },
  {
   "cell_type": "code",
   "execution_count": 21,
   "id": "e6f3da58",
   "metadata": {},
   "outputs": [
    {
     "data": {
      "text/html": [
       "<div>\n",
       "<style scoped>\n",
       "    .dataframe tbody tr th:only-of-type {\n",
       "        vertical-align: middle;\n",
       "    }\n",
       "\n",
       "    .dataframe tbody tr th {\n",
       "        vertical-align: top;\n",
       "    }\n",
       "\n",
       "    .dataframe thead th {\n",
       "        text-align: right;\n",
       "    }\n",
       "</style>\n",
       "<table border=\"1\" class=\"dataframe\">\n",
       "  <thead>\n",
       "    <tr style=\"text-align: right;\">\n",
       "      <th></th>\n",
       "      <th>UniqueRowNo</th>\n",
       "      <th>ProductId</th>\n",
       "      <th>UserId</th>\n",
       "      <th>ProfileName</th>\n",
       "      <th>HelpfulnessNumerator</th>\n",
       "      <th>HelpfulnessDenominator</th>\n",
       "      <th>Score</th>\n",
       "      <th>Time</th>\n",
       "      <th>ReviewSummary</th>\n",
       "      <th>ReviewText</th>\n",
       "      <th>text</th>\n",
       "      <th>Helpfulness</th>\n",
       "      <th>HelpfulnessLabel</th>\n",
       "    </tr>\n",
       "  </thead>\n",
       "  <tbody>\n",
       "    <tr>\n",
       "      <th>0</th>\n",
       "      <td>1</td>\n",
       "      <td>B001E4KFG0</td>\n",
       "      <td>A3SGXH7AUHU8GW</td>\n",
       "      <td>delmartian</td>\n",
       "      <td>1</td>\n",
       "      <td>1</td>\n",
       "      <td>5</td>\n",
       "      <td>1303862400</td>\n",
       "      <td>Good Quality Dog Food</td>\n",
       "      <td>I have bought several of the Vitality canned ...</td>\n",
       "      <td>Good Quality Dog Food  I have bought several ...</td>\n",
       "      <td>1.0</td>\n",
       "      <td>&gt;0.5</td>\n",
       "    </tr>\n",
       "    <tr>\n",
       "      <th>1</th>\n",
       "      <td>2</td>\n",
       "      <td>B00813GRG4</td>\n",
       "      <td>A1D87F6ZCVE5NK</td>\n",
       "      <td>dll pa</td>\n",
       "      <td>0</td>\n",
       "      <td>0</td>\n",
       "      <td>1</td>\n",
       "      <td>1346976000</td>\n",
       "      <td>Not as Advertised</td>\n",
       "      <td>Product arrived labeled as Jumbo Salted Peanu...</td>\n",
       "      <td>Not as Advertised  Product arrived labeled as...</td>\n",
       "      <td>0.0</td>\n",
       "      <td>Useless</td>\n",
       "    </tr>\n",
       "    <tr>\n",
       "      <th>2</th>\n",
       "      <td>3</td>\n",
       "      <td>B000LQOCH0</td>\n",
       "      <td>ABXLMWJIXXAIN</td>\n",
       "      <td>Natalia Corres \"Natalia Corres\"</td>\n",
       "      <td>1</td>\n",
       "      <td>1</td>\n",
       "      <td>4</td>\n",
       "      <td>1219017600</td>\n",
       "      <td>\"Delight\" says it all</td>\n",
       "      <td>This is a confection that has been around a f...</td>\n",
       "      <td>\"Delight\" says it all  This is a confection t...</td>\n",
       "      <td>1.0</td>\n",
       "      <td>&gt;0.5</td>\n",
       "    </tr>\n",
       "    <tr>\n",
       "      <th>3</th>\n",
       "      <td>4</td>\n",
       "      <td>B000UA0QIQ</td>\n",
       "      <td>A395BORC6FGVXV</td>\n",
       "      <td>Karl</td>\n",
       "      <td>3</td>\n",
       "      <td>3</td>\n",
       "      <td>2</td>\n",
       "      <td>1307923200</td>\n",
       "      <td>Cough Medicine</td>\n",
       "      <td>If you are looking for the secret ingredient ...</td>\n",
       "      <td>Cough Medicine  If you are looking for the se...</td>\n",
       "      <td>1.0</td>\n",
       "      <td>&gt;0.5</td>\n",
       "    </tr>\n",
       "    <tr>\n",
       "      <th>4</th>\n",
       "      <td>5</td>\n",
       "      <td>B006K2ZZ7K</td>\n",
       "      <td>A1UQRSCLF8GW1T</td>\n",
       "      <td>Michael D. Bigham \"M. Wassir\"</td>\n",
       "      <td>0</td>\n",
       "      <td>0</td>\n",
       "      <td>5</td>\n",
       "      <td>1350777600</td>\n",
       "      <td>Great taffy</td>\n",
       "      <td>Great taffy at a great price.  There was a wi...</td>\n",
       "      <td>Great taffy  Great taffy at a great price.  T...</td>\n",
       "      <td>0.0</td>\n",
       "      <td>Useless</td>\n",
       "    </tr>\n",
       "  </tbody>\n",
       "</table>\n",
       "</div>"
      ],
      "text/plain": [
       "   UniqueRowNo    ProductId           UserId  \\\n",
       "0            1   B001E4KFG0   A3SGXH7AUHU8GW   \n",
       "1            2   B00813GRG4   A1D87F6ZCVE5NK   \n",
       "2            3   B000LQOCH0    ABXLMWJIXXAIN   \n",
       "3            4   B000UA0QIQ   A395BORC6FGVXV   \n",
       "4            5   B006K2ZZ7K   A1UQRSCLF8GW1T   \n",
       "\n",
       "                        ProfileName  HelpfulnessNumerator  \\\n",
       "0                        delmartian                     1   \n",
       "1                            dll pa                     0   \n",
       "2   Natalia Corres \"Natalia Corres\"                     1   \n",
       "3                              Karl                     3   \n",
       "4     Michael D. Bigham \"M. Wassir\"                     0   \n",
       "\n",
       "   HelpfulnessDenominator  Score        Time           ReviewSummary  \\\n",
       "0                       1      5  1303862400   Good Quality Dog Food   \n",
       "1                       0      1  1346976000       Not as Advertised   \n",
       "2                       1      4  1219017600   \"Delight\" says it all   \n",
       "3                       3      2  1307923200          Cough Medicine   \n",
       "4                       0      5  1350777600             Great taffy   \n",
       "\n",
       "                                          ReviewText  \\\n",
       "0   I have bought several of the Vitality canned ...   \n",
       "1   Product arrived labeled as Jumbo Salted Peanu...   \n",
       "2   This is a confection that has been around a f...   \n",
       "3   If you are looking for the secret ingredient ...   \n",
       "4   Great taffy at a great price.  There was a wi...   \n",
       "\n",
       "                                                text  Helpfulness  \\\n",
       "0   Good Quality Dog Food  I have bought several ...          1.0   \n",
       "1   Not as Advertised  Product arrived labeled as...          0.0   \n",
       "2   \"Delight\" says it all  This is a confection t...          1.0   \n",
       "3   Cough Medicine  If you are looking for the se...          1.0   \n",
       "4   Great taffy  Great taffy at a great price.  T...          0.0   \n",
       "\n",
       "  HelpfulnessLabel  \n",
       "0             >0.5  \n",
       "1          Useless  \n",
       "2             >0.5  \n",
       "3             >0.5  \n",
       "4          Useless  "
      ]
     },
     "execution_count": 21,
     "metadata": {},
     "output_type": "execute_result"
    }
   ],
   "source": [
    "df.head()"
   ]
  },
  {
   "cell_type": "code",
   "execution_count": 22,
   "id": "44dd640e",
   "metadata": {},
   "outputs": [
    {
     "data": {
      "text/plain": [
       "(568454, 13)"
      ]
     },
     "execution_count": 22,
     "metadata": {},
     "output_type": "execute_result"
    }
   ],
   "source": [
    "df.shape"
   ]
  },
  {
   "cell_type": "markdown",
   "id": "a6b8a76b",
   "metadata": {},
   "source": [
    "### machine learning "
   ]
  },
  {
   "cell_type": "code",
   "execution_count": 23,
   "id": "815a9c58",
   "metadata": {},
   "outputs": [],
   "source": [
    "X=df[[\"text\"]]\n",
    "y=df[[\"Score\"]]  "
   ]
  },
  {
   "cell_type": "code",
   "execution_count": 24,
   "id": "50e0db80",
   "metadata": {},
   "outputs": [],
   "source": [
    "# Splitting into train and test\n",
    "\n",
    "from sklearn.model_selection import train_test_split\n",
    "\n",
    "X_train, X_test, y_train, y_test = train_test_split(X, y, test_size=0.25, random_state=52) "
   ]
  },
  {
   "cell_type": "code",
   "execution_count": 25,
   "id": "07afe527",
   "metadata": {},
   "outputs": [
    {
     "name": "stdout",
     "output_type": "stream",
     "text": [
      "(426340, 1) (426340, 1)\n",
      "(142114, 1) (142114, 1)\n"
     ]
    }
   ],
   "source": [
    "print(X_train.shape,y_train.shape)\n",
    "print(X_test.shape,y_test.shape) "
   ]
  },
  {
   "cell_type": "code",
   "execution_count": 26,
   "id": "ecd23cd6",
   "metadata": {},
   "outputs": [],
   "source": [
    "# import nltk\n",
    "# nltk.download('stopwords')\n",
    "# # Downloading wordnet before applying Lemmatizer\n",
    "# nltk.download('wordnet')\n",
    "# nltk.download('omw-1.4')"
   ]
  },
  {
   "cell_type": "code",
   "execution_count": 27,
   "id": "0e907239",
   "metadata": {},
   "outputs": [],
   "source": [
    "import re\n",
    "import nltk\n",
    "from nltk.tokenize import word_tokenize\n",
    "from nltk.corpus import stopwords\n",
    "from nltk.stem import WordNetLemmatizer"
   ]
  },
  {
   "cell_type": "code",
   "execution_count": 28,
   "id": "a421af8f",
   "metadata": {},
   "outputs": [],
   "source": [
    "##  Lemmatizer\n",
    "lemmatizer = WordNetLemmatizer() "
   ]
  },
  {
   "cell_type": "code",
   "execution_count": 29,
   "id": "f99aa67f",
   "metadata": {},
   "outputs": [],
   "source": [
    "def preprocess(raw_text):\n",
    "    # Removing special characters and digits\n",
    "    sentence = re.sub(\"[^a-zA-Z]\", \" \", raw_text)\n",
    "\n",
    "    # change sentence to lower case\n",
    "    sentence = sentence.lower()\n",
    "\n",
    "    # tokenize into words\n",
    "    tokens = sentence.split()\n",
    "\n",
    "    # remove stop words\n",
    "    clean_tokens = [t for t in tokens if t not in stopwords.words(\"english\")]\n",
    "\n",
    "    # Lemmatization\n",
    "\n",
    "    clean_tokens = [lemmatizer.lemmatize(word) for word in clean_tokens]\n",
    "\n",
    "    return pd.Series([\" \".join(clean_tokens), len(clean_tokens)])"
   ]
  },
  {
   "cell_type": "code",
   "execution_count": 30,
   "id": "6aa192fa",
   "metadata": {},
   "outputs": [
    {
     "data": {
      "text/html": [
       "<div>\n",
       "<style scoped>\n",
       "    .dataframe tbody tr th:only-of-type {\n",
       "        vertical-align: middle;\n",
       "    }\n",
       "\n",
       "    .dataframe tbody tr th {\n",
       "        vertical-align: top;\n",
       "    }\n",
       "\n",
       "    .dataframe thead th {\n",
       "        text-align: right;\n",
       "    }\n",
       "</style>\n",
       "<table border=\"1\" class=\"dataframe\">\n",
       "  <thead>\n",
       "    <tr style=\"text-align: right;\">\n",
       "      <th></th>\n",
       "      <th>text</th>\n",
       "      <th>Score</th>\n",
       "    </tr>\n",
       "  </thead>\n",
       "  <tbody>\n",
       "    <tr>\n",
       "      <th>337276</th>\n",
       "      <td>Treats that spoil My 14 year old cat had a bad...</td>\n",
       "      <td>5</td>\n",
       "    </tr>\n",
       "    <tr>\n",
       "      <th>408872</th>\n",
       "      <td>I used to love Caribou coffee. Save your $$ he...</td>\n",
       "      <td>2</td>\n",
       "    </tr>\n",
       "    <tr>\n",
       "      <th>6238</th>\n",
       "      <td>Yummy but watch out... Absolute fantastic arom...</td>\n",
       "      <td>4</td>\n",
       "    </tr>\n",
       "    <tr>\n",
       "      <th>109842</th>\n",
       "      <td>Where's The Bacon? I'll simply say that I had ...</td>\n",
       "      <td>3</td>\n",
       "    </tr>\n",
       "    <tr>\n",
       "      <th>105103</th>\n",
       "      <td>Didn't Really Taste Like a Latte I tried this ...</td>\n",
       "      <td>1</td>\n",
       "    </tr>\n",
       "  </tbody>\n",
       "</table>\n",
       "</div>"
      ],
      "text/plain": [
       "                                                     text  Score\n",
       "337276  Treats that spoil My 14 year old cat had a bad...      5\n",
       "408872  I used to love Caribou coffee. Save your $$ he...      2\n",
       "6238    Yummy but watch out... Absolute fantastic arom...      4\n",
       "109842  Where's The Bacon? I'll simply say that I had ...      3\n",
       "105103  Didn't Really Taste Like a Latte I tried this ...      1"
      ]
     },
     "execution_count": 30,
     "metadata": {},
     "output_type": "execute_result"
    }
   ],
   "source": [
    "#concatenating the x train and  y train\n",
    "train_data=pd.concat([X_train,y_train],axis=1)\n",
    "train_data.head()"
   ]
  },
  {
   "cell_type": "code",
   "execution_count": 31,
   "id": "08fc567b",
   "metadata": {},
   "outputs": [
    {
     "name": "stderr",
     "output_type": "stream",
     "text": [
      "100%|████████████████████████████████████████████████████████████████████████| 426340/426340 [2:59:59<00:00, 39.48it/s]\n"
     ]
    },
    {
     "data": {
      "text/html": [
       "<div>\n",
       "<style scoped>\n",
       "    .dataframe tbody tr th:only-of-type {\n",
       "        vertical-align: middle;\n",
       "    }\n",
       "\n",
       "    .dataframe tbody tr th {\n",
       "        vertical-align: top;\n",
       "    }\n",
       "\n",
       "    .dataframe thead th {\n",
       "        text-align: right;\n",
       "    }\n",
       "</style>\n",
       "<table border=\"1\" class=\"dataframe\">\n",
       "  <thead>\n",
       "    <tr style=\"text-align: right;\">\n",
       "      <th></th>\n",
       "      <th>0</th>\n",
       "      <th>1</th>\n",
       "    </tr>\n",
       "  </thead>\n",
       "  <tbody>\n",
       "    <tr>\n",
       "      <th>337276</th>\n",
       "      <td>treat spoil year old cat bad bout pancreatitis...</td>\n",
       "      <td>23</td>\n",
       "    </tr>\n",
       "    <tr>\n",
       "      <th>408872</th>\n",
       "      <td>used love caribou coffee save many better k cu...</td>\n",
       "      <td>24</td>\n",
       "    </tr>\n",
       "    <tr>\n",
       "      <th>6238</th>\n",
       "      <td>yummy watch absolute fantastic aroma great tas...</td>\n",
       "      <td>70</td>\n",
       "    </tr>\n",
       "    <tr>\n",
       "      <th>109842</th>\n",
       "      <td>bacon simply say hoped little pronounced bacon...</td>\n",
       "      <td>43</td>\n",
       "    </tr>\n",
       "    <tr>\n",
       "      <th>105103</th>\n",
       "      <td>really taste like latte tried product really t...</td>\n",
       "      <td>136</td>\n",
       "    </tr>\n",
       "  </tbody>\n",
       "</table>\n",
       "</div>"
      ],
      "text/plain": [
       "                                                        0    1\n",
       "337276  treat spoil year old cat bad bout pancreatitis...   23\n",
       "408872  used love caribou coffee save many better k cu...   24\n",
       "6238    yummy watch absolute fantastic aroma great tas...   70\n",
       "109842  bacon simply say hoped little pronounced bacon...   43\n",
       "105103  really taste like latte tried product really t...  136"
      ]
     },
     "execution_count": 31,
     "metadata": {},
     "output_type": "execute_result"
    }
   ],
   "source": [
    "new_df=train_data[\"text\"].progress_apply(lambda x:preprocess(x))\n",
    "new_df.head() "
   ]
  },
  {
   "cell_type": "code",
   "execution_count": 32,
   "id": "701a9f5b",
   "metadata": {},
   "outputs": [],
   "source": [
    "new_df.columns=[\"cleaned_text\",\"len_cleaned_text\"]"
   ]
  },
  {
   "cell_type": "code",
   "execution_count": 33,
   "id": "e83dcd3a",
   "metadata": {},
   "outputs": [
    {
     "data": {
      "text/html": [
       "<div>\n",
       "<style scoped>\n",
       "    .dataframe tbody tr th:only-of-type {\n",
       "        vertical-align: middle;\n",
       "    }\n",
       "\n",
       "    .dataframe tbody tr th {\n",
       "        vertical-align: top;\n",
       "    }\n",
       "\n",
       "    .dataframe thead th {\n",
       "        text-align: right;\n",
       "    }\n",
       "</style>\n",
       "<table border=\"1\" class=\"dataframe\">\n",
       "  <thead>\n",
       "    <tr style=\"text-align: right;\">\n",
       "      <th></th>\n",
       "      <th>cleaned_text</th>\n",
       "      <th>len_cleaned_text</th>\n",
       "    </tr>\n",
       "  </thead>\n",
       "  <tbody>\n",
       "    <tr>\n",
       "      <th>337276</th>\n",
       "      <td>treat spoil year old cat bad bout pancreatitis...</td>\n",
       "      <td>23</td>\n",
       "    </tr>\n",
       "    <tr>\n",
       "      <th>408872</th>\n",
       "      <td>used love caribou coffee save many better k cu...</td>\n",
       "      <td>24</td>\n",
       "    </tr>\n",
       "    <tr>\n",
       "      <th>6238</th>\n",
       "      <td>yummy watch absolute fantastic aroma great tas...</td>\n",
       "      <td>70</td>\n",
       "    </tr>\n",
       "    <tr>\n",
       "      <th>109842</th>\n",
       "      <td>bacon simply say hoped little pronounced bacon...</td>\n",
       "      <td>43</td>\n",
       "    </tr>\n",
       "    <tr>\n",
       "      <th>105103</th>\n",
       "      <td>really taste like latte tried product really t...</td>\n",
       "      <td>136</td>\n",
       "    </tr>\n",
       "  </tbody>\n",
       "</table>\n",
       "</div>"
      ],
      "text/plain": [
       "                                             cleaned_text  len_cleaned_text\n",
       "337276  treat spoil year old cat bad bout pancreatitis...                23\n",
       "408872  used love caribou coffee save many better k cu...                24\n",
       "6238    yummy watch absolute fantastic aroma great tas...                70\n",
       "109842  bacon simply say hoped little pronounced bacon...                43\n",
       "105103  really taste like latte tried product really t...               136"
      ]
     },
     "execution_count": 33,
     "metadata": {},
     "output_type": "execute_result"
    }
   ],
   "source": [
    "new_df.head()"
   ]
  },
  {
   "cell_type": "code",
   "execution_count": 34,
   "id": "ece0c2a3",
   "metadata": {},
   "outputs": [
    {
     "data": {
      "text/html": [
       "<div>\n",
       "<style scoped>\n",
       "    .dataframe tbody tr th:only-of-type {\n",
       "        vertical-align: middle;\n",
       "    }\n",
       "\n",
       "    .dataframe tbody tr th {\n",
       "        vertical-align: top;\n",
       "    }\n",
       "\n",
       "    .dataframe thead th {\n",
       "        text-align: right;\n",
       "    }\n",
       "</style>\n",
       "<table border=\"1\" class=\"dataframe\">\n",
       "  <thead>\n",
       "    <tr style=\"text-align: right;\">\n",
       "      <th></th>\n",
       "      <th>text</th>\n",
       "      <th>Score</th>\n",
       "      <th>cleaned_text</th>\n",
       "      <th>len_cleaned_text</th>\n",
       "    </tr>\n",
       "  </thead>\n",
       "  <tbody>\n",
       "    <tr>\n",
       "      <th>337276</th>\n",
       "      <td>Treats that spoil My 14 year old cat had a bad...</td>\n",
       "      <td>5</td>\n",
       "      <td>treat spoil year old cat bad bout pancreatitis...</td>\n",
       "      <td>23</td>\n",
       "    </tr>\n",
       "    <tr>\n",
       "      <th>408872</th>\n",
       "      <td>I used to love Caribou coffee. Save your $$ he...</td>\n",
       "      <td>2</td>\n",
       "      <td>used love caribou coffee save many better k cu...</td>\n",
       "      <td>24</td>\n",
       "    </tr>\n",
       "    <tr>\n",
       "      <th>6238</th>\n",
       "      <td>Yummy but watch out... Absolute fantastic arom...</td>\n",
       "      <td>4</td>\n",
       "      <td>yummy watch absolute fantastic aroma great tas...</td>\n",
       "      <td>70</td>\n",
       "    </tr>\n",
       "    <tr>\n",
       "      <th>109842</th>\n",
       "      <td>Where's The Bacon? I'll simply say that I had ...</td>\n",
       "      <td>3</td>\n",
       "      <td>bacon simply say hoped little pronounced bacon...</td>\n",
       "      <td>43</td>\n",
       "    </tr>\n",
       "    <tr>\n",
       "      <th>105103</th>\n",
       "      <td>Didn't Really Taste Like a Latte I tried this ...</td>\n",
       "      <td>1</td>\n",
       "      <td>really taste like latte tried product really t...</td>\n",
       "      <td>136</td>\n",
       "    </tr>\n",
       "  </tbody>\n",
       "</table>\n",
       "</div>"
      ],
      "text/plain": [
       "                                                     text  Score  \\\n",
       "337276  Treats that spoil My 14 year old cat had a bad...      5   \n",
       "408872  I used to love Caribou coffee. Save your $$ he...      2   \n",
       "6238    Yummy but watch out... Absolute fantastic arom...      4   \n",
       "109842  Where's The Bacon? I'll simply say that I had ...      3   \n",
       "105103  Didn't Really Taste Like a Latte I tried this ...      1   \n",
       "\n",
       "                                             cleaned_text  len_cleaned_text  \n",
       "337276  treat spoil year old cat bad bout pancreatitis...                23  \n",
       "408872  used love caribou coffee save many better k cu...                24  \n",
       "6238    yummy watch absolute fantastic aroma great tas...                70  \n",
       "109842  bacon simply say hoped little pronounced bacon...                43  \n",
       "105103  really taste like latte tried product really t...               136  "
      ]
     },
     "execution_count": 34,
     "metadata": {},
     "output_type": "execute_result"
    }
   ],
   "source": [
    "train_data=pd.concat([train_data,new_df],axis=1)\n",
    "train_data.head() "
   ]
  },
  {
   "cell_type": "code",
   "execution_count": 35,
   "id": "a5284661",
   "metadata": {},
   "outputs": [
    {
     "data": {
      "text/plain": [
       "text                0\n",
       "Score               0\n",
       "cleaned_text        0\n",
       "len_cleaned_text    0\n",
       "dtype: int64"
      ]
     },
     "execution_count": 35,
     "metadata": {},
     "output_type": "execute_result"
    }
   ],
   "source": [
    "train_data.isnull().sum()"
   ]
  },
  {
   "cell_type": "code",
   "execution_count": 36,
   "id": "93077774",
   "metadata": {},
   "outputs": [],
   "source": [
    "#converting to csv\n",
    "#train_data.to_csv(\"cleaned_train_data_score.csv\") "
   ]
  },
  {
   "cell_type": "code",
   "execution_count": 7,
   "id": "2d6ce529",
   "metadata": {},
   "outputs": [
    {
     "data": {
      "text/html": [
       "<div>\n",
       "<style scoped>\n",
       "    .dataframe tbody tr th:only-of-type {\n",
       "        vertical-align: middle;\n",
       "    }\n",
       "\n",
       "    .dataframe tbody tr th {\n",
       "        vertical-align: top;\n",
       "    }\n",
       "\n",
       "    .dataframe thead th {\n",
       "        text-align: right;\n",
       "    }\n",
       "</style>\n",
       "<table border=\"1\" class=\"dataframe\">\n",
       "  <thead>\n",
       "    <tr style=\"text-align: right;\">\n",
       "      <th></th>\n",
       "      <th>Unnamed: 0</th>\n",
       "      <th>text</th>\n",
       "      <th>Score</th>\n",
       "      <th>cleaned_text</th>\n",
       "      <th>len_cleaned_text</th>\n",
       "    </tr>\n",
       "  </thead>\n",
       "  <tbody>\n",
       "    <tr>\n",
       "      <th>0</th>\n",
       "      <td>337276</td>\n",
       "      <td>Treats that spoil My 14 year old cat had a bad...</td>\n",
       "      <td>5</td>\n",
       "      <td>treat spoil year old cat bad bout pancreatitis...</td>\n",
       "      <td>23</td>\n",
       "    </tr>\n",
       "    <tr>\n",
       "      <th>1</th>\n",
       "      <td>408872</td>\n",
       "      <td>I used to love Caribou coffee. Save your $$ he...</td>\n",
       "      <td>2</td>\n",
       "      <td>used love caribou coffee save many better k cu...</td>\n",
       "      <td>24</td>\n",
       "    </tr>\n",
       "    <tr>\n",
       "      <th>2</th>\n",
       "      <td>6238</td>\n",
       "      <td>Yummy but watch out... Absolute fantastic arom...</td>\n",
       "      <td>4</td>\n",
       "      <td>yummy watch absolute fantastic aroma great tas...</td>\n",
       "      <td>70</td>\n",
       "    </tr>\n",
       "    <tr>\n",
       "      <th>3</th>\n",
       "      <td>109842</td>\n",
       "      <td>Where's The Bacon? I'll simply say that I had ...</td>\n",
       "      <td>3</td>\n",
       "      <td>bacon simply say hoped little pronounced bacon...</td>\n",
       "      <td>43</td>\n",
       "    </tr>\n",
       "    <tr>\n",
       "      <th>4</th>\n",
       "      <td>105103</td>\n",
       "      <td>Didn't Really Taste Like a Latte I tried this ...</td>\n",
       "      <td>1</td>\n",
       "      <td>really taste like latte tried product really t...</td>\n",
       "      <td>136</td>\n",
       "    </tr>\n",
       "  </tbody>\n",
       "</table>\n",
       "</div>"
      ],
      "text/plain": [
       "   Unnamed: 0                                               text  Score  \\\n",
       "0      337276  Treats that spoil My 14 year old cat had a bad...      5   \n",
       "1      408872  I used to love Caribou coffee. Save your $$ he...      2   \n",
       "2        6238  Yummy but watch out... Absolute fantastic arom...      4   \n",
       "3      109842  Where's The Bacon? I'll simply say that I had ...      3   \n",
       "4      105103  Didn't Really Taste Like a Latte I tried this ...      1   \n",
       "\n",
       "                                        cleaned_text  len_cleaned_text  \n",
       "0  treat spoil year old cat bad bout pancreatitis...                23  \n",
       "1  used love caribou coffee save many better k cu...                24  \n",
       "2  yummy watch absolute fantastic aroma great tas...                70  \n",
       "3  bacon simply say hoped little pronounced bacon...                43  \n",
       "4  really taste like latte tried product really t...               136  "
      ]
     },
     "execution_count": 7,
     "metadata": {},
     "output_type": "execute_result"
    }
   ],
   "source": [
    "train_data=pd.read_csv(\"cleaned_train_data_score.csv\")\n",
    "train_data.head() "
   ]
  },
  {
   "cell_type": "code",
   "execution_count": 8,
   "id": "9d9a7d2a",
   "metadata": {},
   "outputs": [
    {
     "data": {
      "text/plain": [
       "(426340, 5)"
      ]
     },
     "execution_count": 8,
     "metadata": {},
     "output_type": "execute_result"
    }
   ],
   "source": [
    "train_data.shape"
   ]
  },
  {
   "cell_type": "code",
   "execution_count": 9,
   "id": "81609a33",
   "metadata": {},
   "outputs": [
    {
     "data": {
      "text/plain": [
       "Unnamed: 0          0\n",
       "text                0\n",
       "Score               0\n",
       "cleaned_text        0\n",
       "len_cleaned_text    0\n",
       "dtype: int64"
      ]
     },
     "execution_count": 9,
     "metadata": {},
     "output_type": "execute_result"
    }
   ],
   "source": [
    "train_data.isnull().sum()"
   ]
  },
  {
   "cell_type": "code",
   "execution_count": 10,
   "id": "e0ffd6fc",
   "metadata": {},
   "outputs": [],
   "source": [
    "#seperating X train and y train\n",
    "X_train=train_data[\"cleaned_text\"]\n",
    "y_train=train_data[\"Score\"] "
   ]
  },
  {
   "cell_type": "code",
   "execution_count": 11,
   "id": "bc126939",
   "metadata": {},
   "outputs": [
    {
     "data": {
      "text/plain": [
       "0         treat spoil year old cat bad bout pancreatitis...\n",
       "1         used love caribou coffee save many better k cu...\n",
       "2         yummy watch absolute fantastic aroma great tas...\n",
       "3         bacon simply say hoped little pronounced bacon...\n",
       "4         really taste like latte tried product really t...\n",
       "                                ...                        \n",
       "426335    best dog food market first found dog shelter s...\n",
       "426336    get fiber pleasant way knew nothing kind bar s...\n",
       "426337    nuala say buy well really nuala say arf occasi...\n",
       "426338    disappointing heard nothing raf bar taste like...\n",
       "426339    dogfood dogfood never recalled protein first t...\n",
       "Name: cleaned_text, Length: 426340, dtype: object"
      ]
     },
     "execution_count": 11,
     "metadata": {},
     "output_type": "execute_result"
    }
   ],
   "source": [
    "X_train "
   ]
  },
  {
   "cell_type": "code",
   "execution_count": 12,
   "id": "2c18ed4a",
   "metadata": {},
   "outputs": [],
   "source": [
    "#aaplying transformation on x train\n",
    "from sklearn.feature_extraction.text import CountVectorizer\n",
    "\n",
    "vocab = CountVectorizer()\n",
    "\n",
    "X_train_transformed = vocab.fit_transform(X_train)\n"
   ]
  },
  {
   "cell_type": "code",
   "execution_count": 13,
   "id": "f3c99ea9",
   "metadata": {},
   "outputs": [
    {
     "name": "stdout",
     "output_type": "stream",
     "text": [
      "Total unique words: 95672\n",
      "Type of train features: <class 'scipy.sparse._csr.csr_matrix'>\n",
      "Shape of input data: (426340, 95672)\n"
     ]
    }
   ],
   "source": [
    "print(\"Total unique words:\", len(vocab.vocabulary_))\n",
    "\n",
    "print(\"Type of train features:\", type(X_train_transformed))\n",
    "\n",
    "print(\"Shape of input data:\", X_train_transformed.shape)"
   ]
  },
  {
   "cell_type": "code",
   "execution_count": 14,
   "id": "1ab71218",
   "metadata": {},
   "outputs": [
    {
     "data": {
      "text/plain": [
       "<426340x95672 sparse matrix of type '<class 'numpy.int64'>'\n",
       "\twith 14663155 stored elements in Compressed Sparse Row format>"
      ]
     },
     "execution_count": 14,
     "metadata": {},
     "output_type": "execute_result"
    }
   ],
   "source": [
    "X_train_transformed"
   ]
  },
  {
   "cell_type": "markdown",
   "id": "3de0bf64",
   "metadata": {},
   "source": [
    "#### data cleaning on test data "
   ]
  },
  {
   "cell_type": "code",
   "execution_count": 61,
   "id": "e7331bc6",
   "metadata": {},
   "outputs": [
    {
     "data": {
      "text/html": [
       "<div>\n",
       "<style scoped>\n",
       "    .dataframe tbody tr th:only-of-type {\n",
       "        vertical-align: middle;\n",
       "    }\n",
       "\n",
       "    .dataframe tbody tr th {\n",
       "        vertical-align: top;\n",
       "    }\n",
       "\n",
       "    .dataframe thead th {\n",
       "        text-align: right;\n",
       "    }\n",
       "</style>\n",
       "<table border=\"1\" class=\"dataframe\">\n",
       "  <thead>\n",
       "    <tr style=\"text-align: right;\">\n",
       "      <th></th>\n",
       "      <th>text</th>\n",
       "      <th>Score</th>\n",
       "    </tr>\n",
       "  </thead>\n",
       "  <tbody>\n",
       "    <tr>\n",
       "      <th>479184</th>\n",
       "      <td>Don't buy it used Its a great product, and our...</td>\n",
       "      <td>5</td>\n",
       "    </tr>\n",
       "    <tr>\n",
       "      <th>304707</th>\n",
       "      <td>contains preservatives This cheese has a good ...</td>\n",
       "      <td>4</td>\n",
       "    </tr>\n",
       "    <tr>\n",
       "      <th>92911</th>\n",
       "      <td>Great to have in spray but... I was thrilled t...</td>\n",
       "      <td>4</td>\n",
       "    </tr>\n",
       "    <tr>\n",
       "      <th>365944</th>\n",
       "      <td>Tastes Great! I'm not sure about the claims th...</td>\n",
       "      <td>5</td>\n",
       "    </tr>\n",
       "    <tr>\n",
       "      <th>85239</th>\n",
       "      <td>Terribly Dry I bought this muffin mix and foll...</td>\n",
       "      <td>1</td>\n",
       "    </tr>\n",
       "  </tbody>\n",
       "</table>\n",
       "</div>"
      ],
      "text/plain": [
       "                                                     text  Score\n",
       "479184  Don't buy it used Its a great product, and our...      5\n",
       "304707  contains preservatives This cheese has a good ...      4\n",
       "92911   Great to have in spray but... I was thrilled t...      4\n",
       "365944  Tastes Great! I'm not sure about the claims th...      5\n",
       "85239   Terribly Dry I bought this muffin mix and foll...      1"
      ]
     },
     "execution_count": 61,
     "metadata": {},
     "output_type": "execute_result"
    }
   ],
   "source": [
    "test_data=pd.concat([X_test,y_test],axis=1)\n",
    "test_data.head()"
   ]
  },
  {
   "cell_type": "code",
   "execution_count": 62,
   "id": "bdfd0d3d",
   "metadata": {},
   "outputs": [
    {
     "name": "stderr",
     "output_type": "stream",
     "text": [
      "100%|██████████████████████████████████████████████████████████████████████████| 142114/142114 [43:58<00:00, 53.86it/s]\n"
     ]
    }
   ],
   "source": [
    "temp_df=test_data[\"text\"].progress_apply(lambda x:preprocess(x))\n"
   ]
  },
  {
   "cell_type": "code",
   "execution_count": 63,
   "id": "ba152ef5",
   "metadata": {},
   "outputs": [
    {
     "data": {
      "text/html": [
       "<div>\n",
       "<style scoped>\n",
       "    .dataframe tbody tr th:only-of-type {\n",
       "        vertical-align: middle;\n",
       "    }\n",
       "\n",
       "    .dataframe tbody tr th {\n",
       "        vertical-align: top;\n",
       "    }\n",
       "\n",
       "    .dataframe thead th {\n",
       "        text-align: right;\n",
       "    }\n",
       "</style>\n",
       "<table border=\"1\" class=\"dataframe\">\n",
       "  <thead>\n",
       "    <tr style=\"text-align: right;\">\n",
       "      <th></th>\n",
       "      <th>0</th>\n",
       "      <th>1</th>\n",
       "    </tr>\n",
       "  </thead>\n",
       "  <tbody>\n",
       "    <tr>\n",
       "      <th>479184</th>\n",
       "      <td>buy used great product dog love see amazon lis...</td>\n",
       "      <td>15</td>\n",
       "    </tr>\n",
       "    <tr>\n",
       "      <th>304707</th>\n",
       "      <td>contains preservative cheese good flavor conta...</td>\n",
       "      <td>20</td>\n",
       "    </tr>\n",
       "    <tr>\n",
       "      <th>92911</th>\n",
       "      <td>great spray thrilled finally get oil spray cos...</td>\n",
       "      <td>16</td>\n",
       "    </tr>\n",
       "    <tr>\n",
       "      <th>365944</th>\n",
       "      <td>taste great sure claim sour sop kill cancer ce...</td>\n",
       "      <td>17</td>\n",
       "    </tr>\n",
       "    <tr>\n",
       "      <th>85239</th>\n",
       "      <td>terribly dry bought muffin mix followed direct...</td>\n",
       "      <td>27</td>\n",
       "    </tr>\n",
       "  </tbody>\n",
       "</table>\n",
       "</div>"
      ],
      "text/plain": [
       "                                                        0   1\n",
       "479184  buy used great product dog love see amazon lis...  15\n",
       "304707  contains preservative cheese good flavor conta...  20\n",
       "92911   great spray thrilled finally get oil spray cos...  16\n",
       "365944  taste great sure claim sour sop kill cancer ce...  17\n",
       "85239   terribly dry bought muffin mix followed direct...  27"
      ]
     },
     "execution_count": 63,
     "metadata": {},
     "output_type": "execute_result"
    }
   ],
   "source": [
    "temp_df.head()"
   ]
  },
  {
   "cell_type": "code",
   "execution_count": 64,
   "id": "44352e79",
   "metadata": {},
   "outputs": [
    {
     "data": {
      "text/html": [
       "<div>\n",
       "<style scoped>\n",
       "    .dataframe tbody tr th:only-of-type {\n",
       "        vertical-align: middle;\n",
       "    }\n",
       "\n",
       "    .dataframe tbody tr th {\n",
       "        vertical-align: top;\n",
       "    }\n",
       "\n",
       "    .dataframe thead th {\n",
       "        text-align: right;\n",
       "    }\n",
       "</style>\n",
       "<table border=\"1\" class=\"dataframe\">\n",
       "  <thead>\n",
       "    <tr style=\"text-align: right;\">\n",
       "      <th></th>\n",
       "      <th>cleaned_text</th>\n",
       "      <th>len_cleaned_text</th>\n",
       "    </tr>\n",
       "  </thead>\n",
       "  <tbody>\n",
       "    <tr>\n",
       "      <th>479184</th>\n",
       "      <td>buy used great product dog love see amazon lis...</td>\n",
       "      <td>15</td>\n",
       "    </tr>\n",
       "    <tr>\n",
       "      <th>304707</th>\n",
       "      <td>contains preservative cheese good flavor conta...</td>\n",
       "      <td>20</td>\n",
       "    </tr>\n",
       "    <tr>\n",
       "      <th>92911</th>\n",
       "      <td>great spray thrilled finally get oil spray cos...</td>\n",
       "      <td>16</td>\n",
       "    </tr>\n",
       "    <tr>\n",
       "      <th>365944</th>\n",
       "      <td>taste great sure claim sour sop kill cancer ce...</td>\n",
       "      <td>17</td>\n",
       "    </tr>\n",
       "    <tr>\n",
       "      <th>85239</th>\n",
       "      <td>terribly dry bought muffin mix followed direct...</td>\n",
       "      <td>27</td>\n",
       "    </tr>\n",
       "  </tbody>\n",
       "</table>\n",
       "</div>"
      ],
      "text/plain": [
       "                                             cleaned_text  len_cleaned_text\n",
       "479184  buy used great product dog love see amazon lis...                15\n",
       "304707  contains preservative cheese good flavor conta...                20\n",
       "92911   great spray thrilled finally get oil spray cos...                16\n",
       "365944  taste great sure claim sour sop kill cancer ce...                17\n",
       "85239   terribly dry bought muffin mix followed direct...                27"
      ]
     },
     "execution_count": 64,
     "metadata": {},
     "output_type": "execute_result"
    }
   ],
   "source": [
    "temp_df.columns=[\"cleaned_text\",\"len_cleaned_text\"]\n",
    "temp_df.head() "
   ]
  },
  {
   "cell_type": "code",
   "execution_count": 65,
   "id": "3ffb1748",
   "metadata": {
    "scrolled": true
   },
   "outputs": [
    {
     "data": {
      "text/html": [
       "<div>\n",
       "<style scoped>\n",
       "    .dataframe tbody tr th:only-of-type {\n",
       "        vertical-align: middle;\n",
       "    }\n",
       "\n",
       "    .dataframe tbody tr th {\n",
       "        vertical-align: top;\n",
       "    }\n",
       "\n",
       "    .dataframe thead th {\n",
       "        text-align: right;\n",
       "    }\n",
       "</style>\n",
       "<table border=\"1\" class=\"dataframe\">\n",
       "  <thead>\n",
       "    <tr style=\"text-align: right;\">\n",
       "      <th></th>\n",
       "      <th>text</th>\n",
       "      <th>Score</th>\n",
       "      <th>cleaned_text</th>\n",
       "      <th>len_cleaned_text</th>\n",
       "    </tr>\n",
       "  </thead>\n",
       "  <tbody>\n",
       "    <tr>\n",
       "      <th>479184</th>\n",
       "      <td>Don't buy it used Its a great product, and our...</td>\n",
       "      <td>5</td>\n",
       "      <td>buy used great product dog love see amazon lis...</td>\n",
       "      <td>15</td>\n",
       "    </tr>\n",
       "    <tr>\n",
       "      <th>304707</th>\n",
       "      <td>contains preservatives This cheese has a good ...</td>\n",
       "      <td>4</td>\n",
       "      <td>contains preservative cheese good flavor conta...</td>\n",
       "      <td>20</td>\n",
       "    </tr>\n",
       "    <tr>\n",
       "      <th>92911</th>\n",
       "      <td>Great to have in spray but... I was thrilled t...</td>\n",
       "      <td>4</td>\n",
       "      <td>great spray thrilled finally get oil spray cos...</td>\n",
       "      <td>16</td>\n",
       "    </tr>\n",
       "    <tr>\n",
       "      <th>365944</th>\n",
       "      <td>Tastes Great! I'm not sure about the claims th...</td>\n",
       "      <td>5</td>\n",
       "      <td>taste great sure claim sour sop kill cancer ce...</td>\n",
       "      <td>17</td>\n",
       "    </tr>\n",
       "    <tr>\n",
       "      <th>85239</th>\n",
       "      <td>Terribly Dry I bought this muffin mix and foll...</td>\n",
       "      <td>1</td>\n",
       "      <td>terribly dry bought muffin mix followed direct...</td>\n",
       "      <td>27</td>\n",
       "    </tr>\n",
       "  </tbody>\n",
       "</table>\n",
       "</div>"
      ],
      "text/plain": [
       "                                                     text  Score  \\\n",
       "479184  Don't buy it used Its a great product, and our...      5   \n",
       "304707  contains preservatives This cheese has a good ...      4   \n",
       "92911   Great to have in spray but... I was thrilled t...      4   \n",
       "365944  Tastes Great! I'm not sure about the claims th...      5   \n",
       "85239   Terribly Dry I bought this muffin mix and foll...      1   \n",
       "\n",
       "                                             cleaned_text  len_cleaned_text  \n",
       "479184  buy used great product dog love see amazon lis...                15  \n",
       "304707  contains preservative cheese good flavor conta...                20  \n",
       "92911   great spray thrilled finally get oil spray cos...                16  \n",
       "365944  taste great sure claim sour sop kill cancer ce...                17  \n",
       "85239   terribly dry bought muffin mix followed direct...                27  "
      ]
     },
     "execution_count": 65,
     "metadata": {},
     "output_type": "execute_result"
    }
   ],
   "source": [
    "test_data=pd.concat([test_data,temp_df],axis=1)\n",
    "test_data.head()"
   ]
  },
  {
   "cell_type": "code",
   "execution_count": 66,
   "id": "9aec3d67",
   "metadata": {},
   "outputs": [],
   "source": [
    "#converting test data to csv\n",
    "#test_data.to_csv(\"cleaned_test_data_score.csv\")"
   ]
  },
  {
   "cell_type": "code",
   "execution_count": 82,
   "id": "95af4e30",
   "metadata": {},
   "outputs": [
    {
     "data": {
      "text/plain": [
       "text                0\n",
       "sentiment           0\n",
       "cleaned_text        0\n",
       "len_cleaned_text    0\n",
       "dtype: int64"
      ]
     },
     "execution_count": 82,
     "metadata": {},
     "output_type": "execute_result"
    }
   ],
   "source": [
    "test_data.isnull().sum()"
   ]
  },
  {
   "cell_type": "code",
   "execution_count": 15,
   "id": "1025aa4f",
   "metadata": {},
   "outputs": [
    {
     "data": {
      "text/html": [
       "<div>\n",
       "<style scoped>\n",
       "    .dataframe tbody tr th:only-of-type {\n",
       "        vertical-align: middle;\n",
       "    }\n",
       "\n",
       "    .dataframe tbody tr th {\n",
       "        vertical-align: top;\n",
       "    }\n",
       "\n",
       "    .dataframe thead th {\n",
       "        text-align: right;\n",
       "    }\n",
       "</style>\n",
       "<table border=\"1\" class=\"dataframe\">\n",
       "  <thead>\n",
       "    <tr style=\"text-align: right;\">\n",
       "      <th></th>\n",
       "      <th>Unnamed: 0</th>\n",
       "      <th>text</th>\n",
       "      <th>Score</th>\n",
       "      <th>cleaned_text</th>\n",
       "      <th>len_cleaned_text</th>\n",
       "    </tr>\n",
       "  </thead>\n",
       "  <tbody>\n",
       "    <tr>\n",
       "      <th>0</th>\n",
       "      <td>479184</td>\n",
       "      <td>Don't buy it used Its a great product, and our...</td>\n",
       "      <td>5</td>\n",
       "      <td>buy used great product dog love see amazon lis...</td>\n",
       "      <td>15</td>\n",
       "    </tr>\n",
       "    <tr>\n",
       "      <th>1</th>\n",
       "      <td>304707</td>\n",
       "      <td>contains preservatives This cheese has a good ...</td>\n",
       "      <td>4</td>\n",
       "      <td>contains preservative cheese good flavor conta...</td>\n",
       "      <td>20</td>\n",
       "    </tr>\n",
       "    <tr>\n",
       "      <th>2</th>\n",
       "      <td>92911</td>\n",
       "      <td>Great to have in spray but... I was thrilled t...</td>\n",
       "      <td>4</td>\n",
       "      <td>great spray thrilled finally get oil spray cos...</td>\n",
       "      <td>16</td>\n",
       "    </tr>\n",
       "    <tr>\n",
       "      <th>3</th>\n",
       "      <td>365944</td>\n",
       "      <td>Tastes Great! I'm not sure about the claims th...</td>\n",
       "      <td>5</td>\n",
       "      <td>taste great sure claim sour sop kill cancer ce...</td>\n",
       "      <td>17</td>\n",
       "    </tr>\n",
       "    <tr>\n",
       "      <th>4</th>\n",
       "      <td>85239</td>\n",
       "      <td>Terribly Dry I bought this muffin mix and foll...</td>\n",
       "      <td>1</td>\n",
       "      <td>terribly dry bought muffin mix followed direct...</td>\n",
       "      <td>27</td>\n",
       "    </tr>\n",
       "  </tbody>\n",
       "</table>\n",
       "</div>"
      ],
      "text/plain": [
       "   Unnamed: 0                                               text  Score  \\\n",
       "0      479184  Don't buy it used Its a great product, and our...      5   \n",
       "1      304707  contains preservatives This cheese has a good ...      4   \n",
       "2       92911  Great to have in spray but... I was thrilled t...      4   \n",
       "3      365944  Tastes Great! I'm not sure about the claims th...      5   \n",
       "4       85239  Terribly Dry I bought this muffin mix and foll...      1   \n",
       "\n",
       "                                        cleaned_text  len_cleaned_text  \n",
       "0  buy used great product dog love see amazon lis...                15  \n",
       "1  contains preservative cheese good flavor conta...                20  \n",
       "2  great spray thrilled finally get oil spray cos...                16  \n",
       "3  taste great sure claim sour sop kill cancer ce...                17  \n",
       "4  terribly dry bought muffin mix followed direct...                27  "
      ]
     },
     "execution_count": 15,
     "metadata": {},
     "output_type": "execute_result"
    }
   ],
   "source": [
    "test_data=pd.read_csv(\"cleaned_test_data_Score.csv\")\n",
    "test_data.head()  "
   ]
  },
  {
   "cell_type": "code",
   "execution_count": 16,
   "id": "65745479",
   "metadata": {},
   "outputs": [
    {
     "data": {
      "text/plain": [
       "(142114, 5)"
      ]
     },
     "execution_count": 16,
     "metadata": {},
     "output_type": "execute_result"
    }
   ],
   "source": [
    "test_data.shape"
   ]
  },
  {
   "cell_type": "code",
   "execution_count": 17,
   "id": "a1d64568",
   "metadata": {},
   "outputs": [
    {
     "data": {
      "text/plain": [
       "Unnamed: 0          0\n",
       "text                0\n",
       "Score               0\n",
       "cleaned_text        1\n",
       "len_cleaned_text    0\n",
       "dtype: int64"
      ]
     },
     "execution_count": 17,
     "metadata": {},
     "output_type": "execute_result"
    }
   ],
   "source": [
    "test_data.isnull().sum()"
   ]
  },
  {
   "cell_type": "code",
   "execution_count": 19,
   "id": "559adc14",
   "metadata": {},
   "outputs": [],
   "source": [
    "##since there is one missing value in cleaned_text column we will drop that row\n",
    "test_data.dropna(inplace=True) "
   ]
  },
  {
   "cell_type": "code",
   "execution_count": 21,
   "id": "cbd9abf4",
   "metadata": {},
   "outputs": [
    {
     "data": {
      "text/plain": [
       "Unnamed: 0          0\n",
       "text                0\n",
       "Score               0\n",
       "cleaned_text        0\n",
       "len_cleaned_text    0\n",
       "dtype: int64"
      ]
     },
     "execution_count": 21,
     "metadata": {},
     "output_type": "execute_result"
    }
   ],
   "source": [
    "test_data.isnull().sum() "
   ]
  },
  {
   "cell_type": "code",
   "execution_count": 23,
   "id": "14b117b1",
   "metadata": {},
   "outputs": [],
   "source": [
    "#seperating X_test and y_test from above data\n",
    "X_test=test_data[\"cleaned_text\"]\n",
    "y_test=test_data[\"Score\"] "
   ]
  },
  {
   "cell_type": "code",
   "execution_count": 24,
   "id": "6c6d15b2",
   "metadata": {},
   "outputs": [],
   "source": [
    "#transforming the test data\n",
    "# using the same vocab instance of TfidfCountVectorizer to only transform the xtest data\n",
    "X_test_transformed = vocab.transform(X_test)  "
   ]
  },
  {
   "cell_type": "markdown",
   "id": "6edd8f5e",
   "metadata": {},
   "source": [
    "#### Model buiding "
   ]
  },
  {
   "cell_type": "code",
   "execution_count": 25,
   "id": "cc31a3af",
   "metadata": {},
   "outputs": [],
   "source": [
    "import time "
   ]
  },
  {
   "cell_type": "code",
   "execution_count": 18,
   "id": "68ab392a",
   "metadata": {},
   "outputs": [],
   "source": [
    "import sys "
   ]
  },
  {
   "cell_type": "code",
   "execution_count": 26,
   "id": "95862d9d",
   "metadata": {},
   "outputs": [
    {
     "name": "stdout",
     "output_type": "stream",
     "text": [
      "The total time taken to train this model :  60.45006608963013\n"
     ]
    },
    {
     "name": "stderr",
     "output_type": "stream",
     "text": [
      "C:\\ProgramData\\anaconda3\\lib\\site-packages\\sklearn\\linear_model\\_logistic.py:458: ConvergenceWarning: lbfgs failed to converge (status=1):\n",
      "STOP: TOTAL NO. of ITERATIONS REACHED LIMIT.\n",
      "\n",
      "Increase the number of iterations (max_iter) or scale the data as shown in:\n",
      "    https://scikit-learn.org/stable/modules/preprocessing.html\n",
      "Please also refer to the documentation for alternative solver options:\n",
      "    https://scikit-learn.org/stable/modules/linear_model.html#logistic-regression\n",
      "  n_iter_i = _check_optimize_result(\n"
     ]
    }
   ],
   "source": [
    "from sklearn.linear_model import LogisticRegression\n",
    "LG_classifier=LogisticRegression()\n",
    "st=time.time()\n",
    "LG_classifier.fit(X_train_transformed,y_train)\n",
    "et=time.time()\n",
    "time_taken=et-st\n",
    "print(\"The total time taken to train this model : \",time_taken)\n"
   ]
  },
  {
   "cell_type": "code",
   "execution_count": 27,
   "id": "4e502df7",
   "metadata": {},
   "outputs": [
    {
     "name": "stdout",
     "output_type": "stream",
     "text": [
      "The total time taken for prediction :  0.10332322120666504\n"
     ]
    }
   ],
   "source": [
    "#========MAKING PREDICTIONS USING LOGISTIC REGRESION MODEL==========\n",
    "\n",
    "st=time.time()\n",
    "y_test_pred = LG_classifier.predict(X_test_transformed) \n",
    "et=time.time()\n",
    "\n",
    "print(\"The total time taken for prediction : \",et-st)\n"
   ]
  },
  {
   "cell_type": "code",
   "execution_count": 28,
   "id": "2ec80443",
   "metadata": {},
   "outputs": [
    {
     "name": "stdout",
     "output_type": "stream",
     "text": [
      "0.7549203802607783\n"
     ]
    }
   ],
   "source": [
    "\n",
    "from sklearn.metrics import accuracy_score\n",
    "\n",
    "accuracy_LR=accuracy_score(y_test, y_test_pred)\n",
    "\n",
    "print(accuracy_LR)"
   ]
  },
  {
   "cell_type": "code",
   "execution_count": 29,
   "id": "eb77f399",
   "metadata": {},
   "outputs": [
    {
     "name": "stdout",
     "output_type": "stream",
     "text": [
      "The total time taken to train this model :  2289.9035692214966\n"
     ]
    }
   ],
   "source": [
    "from sklearn.tree import DecisionTreeClassifier\n",
    "DT_classifier=DecisionTreeClassifier()\n",
    "\n",
    "st=time.time()\n",
    "DT_classifier.fit(X_train_transformed,y_train)\n",
    "et=time.time() \n",
    "time_taken=et-st\n",
    "print(\"The total time taken to train this model : \",et-st)\n"
   ]
  },
  {
   "cell_type": "code",
   "execution_count": 30,
   "id": "9a2b14a1",
   "metadata": {},
   "outputs": [
    {
     "name": "stdout",
     "output_type": "stream",
     "text": [
      "The total time taken for prediction :  0.2779371738433838\n"
     ]
    }
   ],
   "source": [
    "st=time.time()\n",
    "y_test_pred = DT_classifier.predict(X_test_transformed) \n",
    "et=time.time()\n",
    "\n",
    "print(\"The total time taken for prediction : \",et-st)"
   ]
  },
  {
   "cell_type": "code",
   "execution_count": 31,
   "id": "b79c3fda",
   "metadata": {},
   "outputs": [
    {
     "name": "stdout",
     "output_type": "stream",
     "text": [
      "0.7610633791419504\n"
     ]
    }
   ],
   "source": [
    "from sklearn.metrics import accuracy_score\n",
    "\n",
    "accuracy_DT=accuracy_score(y_test, y_test_pred)\n",
    "\n",
    "print(accuracy_DT)"
   ]
  },
  {
   "cell_type": "code",
   "execution_count": 32,
   "id": "cb03f2ab",
   "metadata": {},
   "outputs": [
    {
     "name": "stdout",
     "output_type": "stream",
     "text": [
      "The total time taken to train this model :  12970.537742853165\n"
     ]
    }
   ],
   "source": [
    "from sklearn.ensemble import RandomForestClassifier\n",
    "RF_classifier=RandomForestClassifier()\n",
    "\n",
    "st=time.time()\n",
    "RF_classifier.fit(X_train_transformed,y_train)\n",
    "et=time.time() \n",
    "\n",
    "print(\"The total time taken to train this model : \",et-st)\n",
    " "
   ]
  },
  {
   "cell_type": "code",
   "execution_count": 33,
   "id": "5f1c422e",
   "metadata": {},
   "outputs": [
    {
     "name": "stdout",
     "output_type": "stream",
     "text": [
      "The total time taken for prediction :  27.824716329574585\n"
     ]
    }
   ],
   "source": [
    "st=time.time()\n",
    "y_test_pred = RF_classifier.predict(X_test_transformed) \n",
    "et=time.time()\n",
    "\n",
    "print(\"The total time taken for prediction : \",et-st)"
   ]
  },
  {
   "cell_type": "code",
   "execution_count": 34,
   "id": "509b8b48",
   "metadata": {},
   "outputs": [
    {
     "name": "stdout",
     "output_type": "stream",
     "text": [
      "0.8011230499672796\n"
     ]
    }
   ],
   "source": [
    "from sklearn.metrics import accuracy_score\n",
    "\n",
    "accuracy_RF=accuracy_score(y_test, y_test_pred)\n",
    "\n",
    "print(accuracy_RF) "
   ]
  },
  {
   "cell_type": "markdown",
   "id": "a7a1d017",
   "metadata": {},
   "source": [
    "#### SAVING THE MODELS "
   ]
  },
  {
   "cell_type": "code",
   "execution_count": 36,
   "id": "5619dfe8",
   "metadata": {},
   "outputs": [],
   "source": [
    "import pickle "
   ]
  },
  {
   "cell_type": "code",
   "execution_count": 38,
   "id": "ff2e269e",
   "metadata": {},
   "outputs": [],
   "source": [
    "filename_1=\"trained_LR_model_score.sav\"\n",
    "pickle.dump(LG_classifier,open(filename_1,\"wb\")) "
   ]
  },
  {
   "cell_type": "code",
   "execution_count": 39,
   "id": "21fb62fd",
   "metadata": {},
   "outputs": [],
   "source": [
    "filename_2=\"trained_DT_model_score.sav\"\n",
    "pickle.dump(DT_classifier,open(filename_2,\"wb\")) "
   ]
  },
  {
   "cell_type": "code",
   "execution_count": 40,
   "id": "8138addf",
   "metadata": {},
   "outputs": [],
   "source": [
    "filename_3=\"trained_RF_model_score.sav\"\n",
    "pickle.dump(RF_classifier,open(filename_3,\"wb\")) "
   ]
  },
  {
   "cell_type": "markdown",
   "id": "2c1107b9",
   "metadata": {},
   "source": [
    "#### MAKING A DATAFRAME THAT SHOWS THE PROPERTIES OF MODEL"
   ]
  },
  {
   "cell_type": "code",
   "execution_count": 53,
   "id": "46becc4a",
   "metadata": {},
   "outputs": [
    {
     "data": {
      "text/html": [
       "<div>\n",
       "<style scoped>\n",
       "    .dataframe tbody tr th:only-of-type {\n",
       "        vertical-align: middle;\n",
       "    }\n",
       "\n",
       "    .dataframe tbody tr th {\n",
       "        vertical-align: top;\n",
       "    }\n",
       "\n",
       "    .dataframe thead th {\n",
       "        text-align: right;\n",
       "    }\n",
       "</style>\n",
       "<table border=\"1\" class=\"dataframe\">\n",
       "  <thead>\n",
       "    <tr style=\"text-align: right;\">\n",
       "      <th></th>\n",
       "      <th>Model</th>\n",
       "      <th>Accuracy</th>\n",
       "      <th>TrainingTime</th>\n",
       "      <th>PredictionTime</th>\n",
       "      <th>Size(kb)</th>\n",
       "    </tr>\n",
       "  </thead>\n",
       "  <tbody>\n",
       "    <tr>\n",
       "      <th>0</th>\n",
       "      <td>LG_classifier</td>\n",
       "      <td>0.754920</td>\n",
       "      <td>60.45</td>\n",
       "      <td>0.1033</td>\n",
       "      <td>3738</td>\n",
       "    </tr>\n",
       "    <tr>\n",
       "      <th>1</th>\n",
       "      <td>DT_classifier</td>\n",
       "      <td>0.761063</td>\n",
       "      <td>2289.90</td>\n",
       "      <td>0.2770</td>\n",
       "      <td>13740</td>\n",
       "    </tr>\n",
       "    <tr>\n",
       "      <th>2</th>\n",
       "      <td>RF_classifier</td>\n",
       "      <td>0.801123</td>\n",
       "      <td>12970.54</td>\n",
       "      <td>27.8240</td>\n",
       "      <td>2647556</td>\n",
       "    </tr>\n",
       "  </tbody>\n",
       "</table>\n",
       "</div>"
      ],
      "text/plain": [
       "           Model  Accuracy  TrainingTime  PredictionTime  Size(kb)\n",
       "0  LG_classifier  0.754920         60.45          0.1033      3738\n",
       "1  DT_classifier  0.761063       2289.90          0.2770     13740\n",
       "2  RF_classifier  0.801123      12970.54         27.8240   2647556"
      ]
     },
     "execution_count": 53,
     "metadata": {},
     "output_type": "execute_result"
    }
   ],
   "source": [
    "model=[\"LG_classifier\",\"DT_classifier\",\"RF_classifier\"]\n",
    "accuracy=[accuracy_LR,accuracy_DT,accuracy_RF]\n",
    "training_time=[60.45,2289.90,12970.54]\n",
    "prediction_time=[0.1033,0.277,27.824] \n",
    "size=[3738,13740,2647556]\n",
    "df_bow_score=pd.DataFrame({\"Model\":model,\"Accuracy\":accuracy,\"TrainingTime\":training_time,\n",
    "                          \"PredictionTime\":prediction_time,\"Size(kb)\":size}) \n",
    "df_bow_score.head()  "
   ]
  },
  {
   "cell_type": "code",
   "execution_count": 54,
   "id": "7b262245",
   "metadata": {},
   "outputs": [],
   "source": [
    "df_bow_score[\"Accuracy\"]=df_bow_score[\"Accuracy\"]*100  "
   ]
  },
  {
   "cell_type": "code",
   "execution_count": 55,
   "id": "167a8061",
   "metadata": {},
   "outputs": [
    {
     "data": {
      "text/html": [
       "<div>\n",
       "<style scoped>\n",
       "    .dataframe tbody tr th:only-of-type {\n",
       "        vertical-align: middle;\n",
       "    }\n",
       "\n",
       "    .dataframe tbody tr th {\n",
       "        vertical-align: top;\n",
       "    }\n",
       "\n",
       "    .dataframe thead th {\n",
       "        text-align: right;\n",
       "    }\n",
       "</style>\n",
       "<table border=\"1\" class=\"dataframe\">\n",
       "  <thead>\n",
       "    <tr style=\"text-align: right;\">\n",
       "      <th></th>\n",
       "      <th>Model</th>\n",
       "      <th>Accuracy</th>\n",
       "      <th>TrainingTime</th>\n",
       "      <th>PredictionTime</th>\n",
       "      <th>Size(kb)</th>\n",
       "    </tr>\n",
       "  </thead>\n",
       "  <tbody>\n",
       "    <tr>\n",
       "      <th>0</th>\n",
       "      <td>LG_classifier</td>\n",
       "      <td>75.492038</td>\n",
       "      <td>60.45</td>\n",
       "      <td>0.1033</td>\n",
       "      <td>3738</td>\n",
       "    </tr>\n",
       "    <tr>\n",
       "      <th>1</th>\n",
       "      <td>DT_classifier</td>\n",
       "      <td>76.106338</td>\n",
       "      <td>2289.90</td>\n",
       "      <td>0.2770</td>\n",
       "      <td>13740</td>\n",
       "    </tr>\n",
       "    <tr>\n",
       "      <th>2</th>\n",
       "      <td>RF_classifier</td>\n",
       "      <td>80.112305</td>\n",
       "      <td>12970.54</td>\n",
       "      <td>27.8240</td>\n",
       "      <td>2647556</td>\n",
       "    </tr>\n",
       "  </tbody>\n",
       "</table>\n",
       "</div>"
      ],
      "text/plain": [
       "           Model   Accuracy  TrainingTime  PredictionTime  Size(kb)\n",
       "0  LG_classifier  75.492038         60.45          0.1033      3738\n",
       "1  DT_classifier  76.106338       2289.90          0.2770     13740\n",
       "2  RF_classifier  80.112305      12970.54         27.8240   2647556"
      ]
     },
     "execution_count": 55,
     "metadata": {},
     "output_type": "execute_result"
    }
   ],
   "source": [
    "df_bow_score"
   ]
  },
  {
   "cell_type": "code",
   "execution_count": 56,
   "id": "90c9471b",
   "metadata": {},
   "outputs": [],
   "source": [
    "#df_bow_score.to_csv(\"df_bow_score.csv\")"
   ]
  },
  {
   "cell_type": "code",
   "execution_count": 57,
   "id": "5c800470",
   "metadata": {},
   "outputs": [
    {
     "data": {
      "text/plain": [
       "<Axes: xlabel='Accuracy', ylabel='Model'>"
      ]
     },
     "execution_count": 57,
     "metadata": {},
     "output_type": "execute_result"
    },
    {
     "data": {
      "image/png": "[encoded data removed]",
      "text/plain": [
       "<Figure size 640x480 with 1 Axes>"
      ]
     },
     "metadata": {},
     "output_type": "display_data"
    }
   ],
   "source": [
    "sns.barplot(data=df_bow_score,x=\"Accuracy\",y=\"Model\")  "
   ]
  },
  {
   "cell_type": "code",
   "execution_count": 58,
   "id": "4c3e7e18",
   "metadata": {},
   "outputs": [
    {
     "data": {
      "text/plain": [
       "<Axes: xlabel='Model', ylabel='TrainingTime'>"
      ]
     },
     "execution_count": 58,
     "metadata": {},
     "output_type": "execute_result"
    },
    {
     "data": {
      "image/png": "[encoded data removed]",
      "text/plain": [
       "<Figure size 640x480 with 1 Axes>"
      ]
     },
     "metadata": {},
     "output_type": "display_data"
    }
   ],
   "source": [
    "sns.barplot(data=df_bow_score,x=\"Model\",y=\"TrainingTime\")  "
   ]
  },
  {
   "cell_type": "code",
   "execution_count": 59,
   "id": "d376d056",
   "metadata": {},
   "outputs": [
    {
     "data": {
      "text/plain": [
       "<Axes: xlabel='Model', ylabel='PredictionTime'>"
      ]
     },
     "execution_count": 59,
     "metadata": {},
     "output_type": "execute_result"
    },
    {
     "data": {
      "image/png": "[encoded data removed]",
      "text/plain": [
       "<Figure size 640x480 with 1 Axes>"
      ]
     },
     "metadata": {},
     "output_type": "display_data"
    }
   ],
   "source": [
    "sns.barplot(data=df_bow_score,x=\"Model\",y=\"PredictionTime\")  "
   ]
  },
  {
   "cell_type": "code",
   "execution_count": 60,
   "id": "100c6357",
   "metadata": {},
   "outputs": [
    {
     "data": {
      "text/plain": [
       "<Axes: xlabel='Model', ylabel='Size(kb)'>"
      ]
     },
     "execution_count": 60,
     "metadata": {},
     "output_type": "execute_result"
    },
    {
     "data": {
      "image/png": "[encoded data removed]",
      "text/plain": [
       "<Figure size 640x480 with 1 Axes>"
      ]
     },
     "metadata": {},
     "output_type": "display_data"
    }
   ],
   "source": [
    "sns.barplot(data=df_bow_score,x=\"Model\",y=\"Size(kb)\")  "
   ]
  },
  {
   "cell_type": "code",
   "execution_count": null,
   "id": "c08ab6de",
   "metadata": {},
   "outputs": [],
   "source": []
  }
 ],
 "metadata": {
  "kernelspec": {
   "display_name": "Python 3 (ipykernel)",
   "language": "python",
   "name": "python3"
  },
  "language_info": {
   "codemirror_mode": {
    "name": "ipython",
    "version": 3
   },
   "file_extension": ".py",
   "mimetype": "text/x-python",
   "name": "python",
   "nbconvert_exporter": "python",
   "pygments_lexer": "ipython3",
   "version": "3.9.13"
  }
 },
 "nbformat": 4,
 "nbformat_minor": 5
}
