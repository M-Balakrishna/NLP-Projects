{
 "cells": [
  {
   "cell_type": "code",
   "execution_count": 1,
   "id": "36236f6e",
   "metadata": {},
   "outputs": [],
   "source": [
    "import pandas as pd \n",
    "import numpy as np \n",
    "import matplotlib.pyplot as plt \n",
    "import seaborn as sns "
   ]
  },
  {
   "cell_type": "code",
   "execution_count": 2,
   "id": "f336278e",
   "metadata": {},
   "outputs": [
    {
     "data": {
      "text/html": [
       "<div>\n",
       "<style scoped>\n",
       "    .dataframe tbody tr th:only-of-type {\n",
       "        vertical-align: middle;\n",
       "    }\n",
       "\n",
       "    .dataframe tbody tr th {\n",
       "        vertical-align: top;\n",
       "    }\n",
       "\n",
       "    .dataframe thead th {\n",
       "        text-align: right;\n",
       "    }\n",
       "</style>\n",
       "<table border=\"1\" class=\"dataframe\">\n",
       "  <thead>\n",
       "    <tr style=\"text-align: right;\">\n",
       "      <th></th>\n",
       "      <th>Unnamed: 0</th>\n",
       "      <th>ProductId</th>\n",
       "      <th>UserId</th>\n",
       "      <th>ProfileName</th>\n",
       "      <th>HelpfulnessNumerator</th>\n",
       "      <th>HelpfulnessDenominator</th>\n",
       "      <th>Score</th>\n",
       "      <th>Time</th>\n",
       "      <th>ReviewSummary</th>\n",
       "      <th>ReviewText</th>\n",
       "    </tr>\n",
       "  </thead>\n",
       "  <tbody>\n",
       "    <tr>\n",
       "      <th>0</th>\n",
       "      <td>0</td>\n",
       "      <td>B001E4KFG0</td>\n",
       "      <td>A3SGXH7AUHU8GW</td>\n",
       "      <td>delmartian</td>\n",
       "      <td>1</td>\n",
       "      <td>1</td>\n",
       "      <td>5</td>\n",
       "      <td>1303862400</td>\n",
       "      <td>Good Quality Dog Food</td>\n",
       "      <td>I have bought several of the Vitality canned ...</td>\n",
       "    </tr>\n",
       "    <tr>\n",
       "      <th>1</th>\n",
       "      <td>1</td>\n",
       "      <td>B00813GRG4</td>\n",
       "      <td>A1D87F6ZCVE5NK</td>\n",
       "      <td>dll pa</td>\n",
       "      <td>0</td>\n",
       "      <td>0</td>\n",
       "      <td>1</td>\n",
       "      <td>1346976000</td>\n",
       "      <td>Not as Advertised</td>\n",
       "      <td>Product arrived labeled as Jumbo Salted Peanu...</td>\n",
       "    </tr>\n",
       "    <tr>\n",
       "      <th>2</th>\n",
       "      <td>2</td>\n",
       "      <td>B000LQOCH0</td>\n",
       "      <td>ABXLMWJIXXAIN</td>\n",
       "      <td>Natalia Corres \"Natalia Corres\"</td>\n",
       "      <td>1</td>\n",
       "      <td>1</td>\n",
       "      <td>4</td>\n",
       "      <td>1219017600</td>\n",
       "      <td>\"Delight\" says it all</td>\n",
       "      <td>This is a confection that has been around a f...</td>\n",
       "    </tr>\n",
       "    <tr>\n",
       "      <th>3</th>\n",
       "      <td>3</td>\n",
       "      <td>B000UA0QIQ</td>\n",
       "      <td>A395BORC6FGVXV</td>\n",
       "      <td>Karl</td>\n",
       "      <td>3</td>\n",
       "      <td>3</td>\n",
       "      <td>2</td>\n",
       "      <td>1307923200</td>\n",
       "      <td>Cough Medicine</td>\n",
       "      <td>If you are looking for the secret ingredient ...</td>\n",
       "    </tr>\n",
       "    <tr>\n",
       "      <th>4</th>\n",
       "      <td>4</td>\n",
       "      <td>B006K2ZZ7K</td>\n",
       "      <td>A1UQRSCLF8GW1T</td>\n",
       "      <td>Michael D. Bigham \"M. Wassir\"</td>\n",
       "      <td>0</td>\n",
       "      <td>0</td>\n",
       "      <td>5</td>\n",
       "      <td>1350777600</td>\n",
       "      <td>Great taffy</td>\n",
       "      <td>Great taffy at a great price.  There was a wi...</td>\n",
       "    </tr>\n",
       "  </tbody>\n",
       "</table>\n",
       "</div>"
      ],
      "text/plain": [
       "   Unnamed: 0    ProductId           UserId                       ProfileName  \\\n",
       "0           0   B001E4KFG0   A3SGXH7AUHU8GW                        delmartian   \n",
       "1           1   B00813GRG4   A1D87F6ZCVE5NK                            dll pa   \n",
       "2           2   B000LQOCH0    ABXLMWJIXXAIN   Natalia Corres \"Natalia Corres\"   \n",
       "3           3   B000UA0QIQ   A395BORC6FGVXV                              Karl   \n",
       "4           4   B006K2ZZ7K   A1UQRSCLF8GW1T     Michael D. Bigham \"M. Wassir\"   \n",
       "\n",
       "   HelpfulnessNumerator  HelpfulnessDenominator  Score        Time  \\\n",
       "0                     1                       1      5  1303862400   \n",
       "1                     0                       0      1  1346976000   \n",
       "2                     1                       1      4  1219017600   \n",
       "3                     3                       3      2  1307923200   \n",
       "4                     0                       0      5  1350777600   \n",
       "\n",
       "            ReviewSummary                                         ReviewText  \n",
       "0   Good Quality Dog Food   I have bought several of the Vitality canned ...  \n",
       "1       Not as Advertised   Product arrived labeled as Jumbo Salted Peanu...  \n",
       "2   \"Delight\" says it all   This is a confection that has been around a f...  \n",
       "3          Cough Medicine   If you are looking for the secret ingredient ...  \n",
       "4             Great taffy   Great taffy at a great price.  There was a wi...  "
      ]
     },
     "execution_count": 2,
     "metadata": {},
     "output_type": "execute_result"
    }
   ],
   "source": [
    "df=pd.read_csv(r\"Sentimentanalysis\")\n",
    "df.head()"
   ]
  },
  {
   "cell_type": "code",
   "execution_count": 3,
   "id": "f5e8f69c",
   "metadata": {},
   "outputs": [
    {
     "data": {
      "text/plain": [
       "(568454, 10)"
      ]
     },
     "execution_count": 3,
     "metadata": {},
     "output_type": "execute_result"
    }
   ],
   "source": [
    "df.shape"
   ]
  },
  {
   "cell_type": "code",
   "execution_count": 4,
   "id": "46cfa578",
   "metadata": {},
   "outputs": [
    {
     "name": "stdout",
     "output_type": "stream",
     "text": [
      "<class 'pandas.core.frame.DataFrame'>\n",
      "RangeIndex: 568454 entries, 0 to 568453\n",
      "Data columns (total 10 columns):\n",
      " #   Column                  Non-Null Count   Dtype \n",
      "---  ------                  --------------   ----- \n",
      " 0   Unnamed: 0              568454 non-null  int64 \n",
      " 1   ProductId               568454 non-null  object\n",
      " 2   UserId                  568454 non-null  object\n",
      " 3   ProfileName             568454 non-null  object\n",
      " 4   HelpfulnessNumerator    568454 non-null  int64 \n",
      " 5   HelpfulnessDenominator  568454 non-null  int64 \n",
      " 6   Score                   568454 non-null  int64 \n",
      " 7   Time                    568454 non-null  int64 \n",
      " 8   ReviewSummary           568454 non-null  object\n",
      " 9   ReviewText              568454 non-null  object\n",
      "dtypes: int64(5), object(5)\n",
      "memory usage: 43.4+ MB\n"
     ]
    }
   ],
   "source": [
    "df.info()"
   ]
  },
  {
   "cell_type": "code",
   "execution_count": 5,
   "id": "8669a6e4",
   "metadata": {},
   "outputs": [
    {
     "data": {
      "text/plain": [
       "Unnamed: 0                0\n",
       "ProductId                 0\n",
       "UserId                    0\n",
       "ProfileName               0\n",
       "HelpfulnessNumerator      0\n",
       "HelpfulnessDenominator    0\n",
       "Score                     0\n",
       "Time                      0\n",
       "ReviewSummary             0\n",
       "ReviewText                0\n",
       "dtype: int64"
      ]
     },
     "execution_count": 5,
     "metadata": {},
     "output_type": "execute_result"
    }
   ],
   "source": [
    "df.isnull().sum() "
   ]
  },
  {
   "cell_type": "code",
   "execution_count": 6,
   "id": "8905e36d",
   "metadata": {},
   "outputs": [
    {
     "data": {
      "text/html": [
       "<div>\n",
       "<style scoped>\n",
       "    .dataframe tbody tr th:only-of-type {\n",
       "        vertical-align: middle;\n",
       "    }\n",
       "\n",
       "    .dataframe tbody tr th {\n",
       "        vertical-align: top;\n",
       "    }\n",
       "\n",
       "    .dataframe thead th {\n",
       "        text-align: right;\n",
       "    }\n",
       "</style>\n",
       "<table border=\"1\" class=\"dataframe\">\n",
       "  <thead>\n",
       "    <tr style=\"text-align: right;\">\n",
       "      <th></th>\n",
       "      <th>Unnamed: 0</th>\n",
       "      <th>ProductId</th>\n",
       "      <th>UserId</th>\n",
       "      <th>ProfileName</th>\n",
       "      <th>HelpfulnessNumerator</th>\n",
       "      <th>HelpfulnessDenominator</th>\n",
       "      <th>Score</th>\n",
       "      <th>Time</th>\n",
       "      <th>ReviewSummary</th>\n",
       "      <th>ReviewText</th>\n",
       "      <th>text</th>\n",
       "    </tr>\n",
       "  </thead>\n",
       "  <tbody>\n",
       "    <tr>\n",
       "      <th>0</th>\n",
       "      <td>0</td>\n",
       "      <td>B001E4KFG0</td>\n",
       "      <td>A3SGXH7AUHU8GW</td>\n",
       "      <td>delmartian</td>\n",
       "      <td>1</td>\n",
       "      <td>1</td>\n",
       "      <td>5</td>\n",
       "      <td>1303862400</td>\n",
       "      <td>Good Quality Dog Food</td>\n",
       "      <td>I have bought several of the Vitality canned ...</td>\n",
       "      <td>Good Quality Dog Food  I have bought several ...</td>\n",
       "    </tr>\n",
       "    <tr>\n",
       "      <th>1</th>\n",
       "      <td>1</td>\n",
       "      <td>B00813GRG4</td>\n",
       "      <td>A1D87F6ZCVE5NK</td>\n",
       "      <td>dll pa</td>\n",
       "      <td>0</td>\n",
       "      <td>0</td>\n",
       "      <td>1</td>\n",
       "      <td>1346976000</td>\n",
       "      <td>Not as Advertised</td>\n",
       "      <td>Product arrived labeled as Jumbo Salted Peanu...</td>\n",
       "      <td>Not as Advertised  Product arrived labeled as...</td>\n",
       "    </tr>\n",
       "    <tr>\n",
       "      <th>2</th>\n",
       "      <td>2</td>\n",
       "      <td>B000LQOCH0</td>\n",
       "      <td>ABXLMWJIXXAIN</td>\n",
       "      <td>Natalia Corres \"Natalia Corres\"</td>\n",
       "      <td>1</td>\n",
       "      <td>1</td>\n",
       "      <td>4</td>\n",
       "      <td>1219017600</td>\n",
       "      <td>\"Delight\" says it all</td>\n",
       "      <td>This is a confection that has been around a f...</td>\n",
       "      <td>\"Delight\" says it all  This is a confection t...</td>\n",
       "    </tr>\n",
       "    <tr>\n",
       "      <th>3</th>\n",
       "      <td>3</td>\n",
       "      <td>B000UA0QIQ</td>\n",
       "      <td>A395BORC6FGVXV</td>\n",
       "      <td>Karl</td>\n",
       "      <td>3</td>\n",
       "      <td>3</td>\n",
       "      <td>2</td>\n",
       "      <td>1307923200</td>\n",
       "      <td>Cough Medicine</td>\n",
       "      <td>If you are looking for the secret ingredient ...</td>\n",
       "      <td>Cough Medicine  If you are looking for the se...</td>\n",
       "    </tr>\n",
       "    <tr>\n",
       "      <th>4</th>\n",
       "      <td>4</td>\n",
       "      <td>B006K2ZZ7K</td>\n",
       "      <td>A1UQRSCLF8GW1T</td>\n",
       "      <td>Michael D. Bigham \"M. Wassir\"</td>\n",
       "      <td>0</td>\n",
       "      <td>0</td>\n",
       "      <td>5</td>\n",
       "      <td>1350777600</td>\n",
       "      <td>Great taffy</td>\n",
       "      <td>Great taffy at a great price.  There was a wi...</td>\n",
       "      <td>Great taffy  Great taffy at a great price.  T...</td>\n",
       "    </tr>\n",
       "  </tbody>\n",
       "</table>\n",
       "</div>"
      ],
      "text/plain": [
       "   Unnamed: 0    ProductId           UserId                       ProfileName  \\\n",
       "0           0   B001E4KFG0   A3SGXH7AUHU8GW                        delmartian   \n",
       "1           1   B00813GRG4   A1D87F6ZCVE5NK                            dll pa   \n",
       "2           2   B000LQOCH0    ABXLMWJIXXAIN   Natalia Corres \"Natalia Corres\"   \n",
       "3           3   B000UA0QIQ   A395BORC6FGVXV                              Karl   \n",
       "4           4   B006K2ZZ7K   A1UQRSCLF8GW1T     Michael D. Bigham \"M. Wassir\"   \n",
       "\n",
       "   HelpfulnessNumerator  HelpfulnessDenominator  Score        Time  \\\n",
       "0                     1                       1      5  1303862400   \n",
       "1                     0                       0      1  1346976000   \n",
       "2                     1                       1      4  1219017600   \n",
       "3                     3                       3      2  1307923200   \n",
       "4                     0                       0      5  1350777600   \n",
       "\n",
       "            ReviewSummary                                         ReviewText  \\\n",
       "0   Good Quality Dog Food   I have bought several of the Vitality canned ...   \n",
       "1       Not as Advertised   Product arrived labeled as Jumbo Salted Peanu...   \n",
       "2   \"Delight\" says it all   This is a confection that has been around a f...   \n",
       "3          Cough Medicine   If you are looking for the secret ingredient ...   \n",
       "4             Great taffy   Great taffy at a great price.  There was a wi...   \n",
       "\n",
       "                                                text  \n",
       "0   Good Quality Dog Food  I have bought several ...  \n",
       "1   Not as Advertised  Product arrived labeled as...  \n",
       "2   \"Delight\" says it all  This is a confection t...  \n",
       "3   Cough Medicine  If you are looking for the se...  \n",
       "4   Great taffy  Great taffy at a great price.  T...  "
      ]
     },
     "execution_count": 6,
     "metadata": {},
     "output_type": "execute_result"
    }
   ],
   "source": [
    "# creating the new text column that combines both review summary and review text\n",
    "df[\"text\"]=df[\"ReviewSummary\"]+\" \"+df[\"ReviewText\"]\n",
    "df.head() "
   ]
  },
  {
   "cell_type": "code",
   "execution_count": 7,
   "id": "69c9ff59",
   "metadata": {},
   "outputs": [],
   "source": [
    "df.columns=['UniqueRowNo', 'ProductId', 'UserId', 'ProfileName',\n",
    "       'HelpfulnessNumerator', 'HelpfulnessDenominator', 'Score', 'Time',\n",
    "       'ReviewSummary', 'ReviewText','text']"
   ]
  },
  {
   "cell_type": "code",
   "execution_count": 8,
   "id": "725d6658",
   "metadata": {},
   "outputs": [],
   "source": [
    "#making the unique row number column\n",
    "df[\"UniqueRowNo\"]=np.arange(1,df.shape[0]+1) "
   ]
  },
  {
   "cell_type": "code",
   "execution_count": 9,
   "id": "8cf0f030",
   "metadata": {},
   "outputs": [
    {
     "data": {
      "text/html": [
       "<div>\n",
       "<style scoped>\n",
       "    .dataframe tbody tr th:only-of-type {\n",
       "        vertical-align: middle;\n",
       "    }\n",
       "\n",
       "    .dataframe tbody tr th {\n",
       "        vertical-align: top;\n",
       "    }\n",
       "\n",
       "    .dataframe thead th {\n",
       "        text-align: right;\n",
       "    }\n",
       "</style>\n",
       "<table border=\"1\" class=\"dataframe\">\n",
       "  <thead>\n",
       "    <tr style=\"text-align: right;\">\n",
       "      <th></th>\n",
       "      <th>UniqueRowNo</th>\n",
       "      <th>ProductId</th>\n",
       "      <th>UserId</th>\n",
       "      <th>ProfileName</th>\n",
       "      <th>HelpfulnessNumerator</th>\n",
       "      <th>HelpfulnessDenominator</th>\n",
       "      <th>Score</th>\n",
       "      <th>Time</th>\n",
       "      <th>ReviewSummary</th>\n",
       "      <th>ReviewText</th>\n",
       "      <th>text</th>\n",
       "    </tr>\n",
       "  </thead>\n",
       "  <tbody>\n",
       "    <tr>\n",
       "      <th>0</th>\n",
       "      <td>1</td>\n",
       "      <td>B001E4KFG0</td>\n",
       "      <td>A3SGXH7AUHU8GW</td>\n",
       "      <td>delmartian</td>\n",
       "      <td>1</td>\n",
       "      <td>1</td>\n",
       "      <td>5</td>\n",
       "      <td>1303862400</td>\n",
       "      <td>Good Quality Dog Food</td>\n",
       "      <td>I have bought several of the Vitality canned ...</td>\n",
       "      <td>Good Quality Dog Food  I have bought several ...</td>\n",
       "    </tr>\n",
       "    <tr>\n",
       "      <th>1</th>\n",
       "      <td>2</td>\n",
       "      <td>B00813GRG4</td>\n",
       "      <td>A1D87F6ZCVE5NK</td>\n",
       "      <td>dll pa</td>\n",
       "      <td>0</td>\n",
       "      <td>0</td>\n",
       "      <td>1</td>\n",
       "      <td>1346976000</td>\n",
       "      <td>Not as Advertised</td>\n",
       "      <td>Product arrived labeled as Jumbo Salted Peanu...</td>\n",
       "      <td>Not as Advertised  Product arrived labeled as...</td>\n",
       "    </tr>\n",
       "    <tr>\n",
       "      <th>2</th>\n",
       "      <td>3</td>\n",
       "      <td>B000LQOCH0</td>\n",
       "      <td>ABXLMWJIXXAIN</td>\n",
       "      <td>Natalia Corres \"Natalia Corres\"</td>\n",
       "      <td>1</td>\n",
       "      <td>1</td>\n",
       "      <td>4</td>\n",
       "      <td>1219017600</td>\n",
       "      <td>\"Delight\" says it all</td>\n",
       "      <td>This is a confection that has been around a f...</td>\n",
       "      <td>\"Delight\" says it all  This is a confection t...</td>\n",
       "    </tr>\n",
       "    <tr>\n",
       "      <th>3</th>\n",
       "      <td>4</td>\n",
       "      <td>B000UA0QIQ</td>\n",
       "      <td>A395BORC6FGVXV</td>\n",
       "      <td>Karl</td>\n",
       "      <td>3</td>\n",
       "      <td>3</td>\n",
       "      <td>2</td>\n",
       "      <td>1307923200</td>\n",
       "      <td>Cough Medicine</td>\n",
       "      <td>If you are looking for the secret ingredient ...</td>\n",
       "      <td>Cough Medicine  If you are looking for the se...</td>\n",
       "    </tr>\n",
       "    <tr>\n",
       "      <th>4</th>\n",
       "      <td>5</td>\n",
       "      <td>B006K2ZZ7K</td>\n",
       "      <td>A1UQRSCLF8GW1T</td>\n",
       "      <td>Michael D. Bigham \"M. Wassir\"</td>\n",
       "      <td>0</td>\n",
       "      <td>0</td>\n",
       "      <td>5</td>\n",
       "      <td>1350777600</td>\n",
       "      <td>Great taffy</td>\n",
       "      <td>Great taffy at a great price.  There was a wi...</td>\n",
       "      <td>Great taffy  Great taffy at a great price.  T...</td>\n",
       "    </tr>\n",
       "  </tbody>\n",
       "</table>\n",
       "</div>"
      ],
      "text/plain": [
       "   UniqueRowNo    ProductId           UserId  \\\n",
       "0            1   B001E4KFG0   A3SGXH7AUHU8GW   \n",
       "1            2   B00813GRG4   A1D87F6ZCVE5NK   \n",
       "2            3   B000LQOCH0    ABXLMWJIXXAIN   \n",
       "3            4   B000UA0QIQ   A395BORC6FGVXV   \n",
       "4            5   B006K2ZZ7K   A1UQRSCLF8GW1T   \n",
       "\n",
       "                        ProfileName  HelpfulnessNumerator  \\\n",
       "0                        delmartian                     1   \n",
       "1                            dll pa                     0   \n",
       "2   Natalia Corres \"Natalia Corres\"                     1   \n",
       "3                              Karl                     3   \n",
       "4     Michael D. Bigham \"M. Wassir\"                     0   \n",
       "\n",
       "   HelpfulnessDenominator  Score        Time           ReviewSummary  \\\n",
       "0                       1      5  1303862400   Good Quality Dog Food   \n",
       "1                       0      1  1346976000       Not as Advertised   \n",
       "2                       1      4  1219017600   \"Delight\" says it all   \n",
       "3                       3      2  1307923200          Cough Medicine   \n",
       "4                       0      5  1350777600             Great taffy   \n",
       "\n",
       "                                          ReviewText  \\\n",
       "0   I have bought several of the Vitality canned ...   \n",
       "1   Product arrived labeled as Jumbo Salted Peanu...   \n",
       "2   This is a confection that has been around a f...   \n",
       "3   If you are looking for the secret ingredient ...   \n",
       "4   Great taffy at a great price.  There was a wi...   \n",
       "\n",
       "                                                text  \n",
       "0   Good Quality Dog Food  I have bought several ...  \n",
       "1   Not as Advertised  Product arrived labeled as...  \n",
       "2   \"Delight\" says it all  This is a confection t...  \n",
       "3   Cough Medicine  If you are looking for the se...  \n",
       "4   Great taffy  Great taffy at a great price.  T...  "
      ]
     },
     "execution_count": 9,
     "metadata": {},
     "output_type": "execute_result"
    }
   ],
   "source": [
    "df.head() "
   ]
  },
  {
   "cell_type": "code",
   "execution_count": 10,
   "id": "34334241",
   "metadata": {},
   "outputs": [],
   "source": [
    "#creating helpfulness column which is the fraction of HelpFulnessNumerator and HelpfulnessDenominator\n",
    "df[\"Helpfulness\"]=df[\"HelpfulnessNumerator\"]/df[\"HelpfulnessDenominator\"]"
   ]
  },
  {
   "cell_type": "code",
   "execution_count": 11,
   "id": "5cbd0614",
   "metadata": {},
   "outputs": [
    {
     "data": {
      "text/plain": [
       "0    1.0\n",
       "1    NaN\n",
       "2    1.0\n",
       "3    1.0\n",
       "4    NaN\n",
       "Name: Helpfulness, dtype: float64"
      ]
     },
     "execution_count": 11,
     "metadata": {},
     "output_type": "execute_result"
    }
   ],
   "source": [
    "df['Helpfulness'].head()"
   ]
  },
  {
   "cell_type": "code",
   "execution_count": 12,
   "id": "e6053442",
   "metadata": {},
   "outputs": [
    {
     "data": {
      "text/plain": [
       "0         1.0\n",
       "1         0.0\n",
       "2         1.0\n",
       "3         1.0\n",
       "4         0.0\n",
       "         ... \n",
       "568449    0.0\n",
       "568450    0.0\n",
       "568451    1.0\n",
       "568452    1.0\n",
       "568453    0.0\n",
       "Name: Helpfulness, Length: 568454, dtype: float64"
      ]
     },
     "execution_count": 12,
     "metadata": {},
     "output_type": "execute_result"
    }
   ],
   "source": [
    "#here we can see that helpfulness fraction contains nan,this is because 0/0 is not defined\n",
    "# we can replace nan with zero\n",
    "df[\"Helpfulness\"]=df[\"Helpfulness\"].replace(np.nan,0)\n",
    "df[\"Helpfulness\"] "
   ]
  },
  {
   "cell_type": "code",
   "execution_count": 13,
   "id": "12375730",
   "metadata": {},
   "outputs": [
    {
     "name": "stdout",
     "output_type": "stream",
     "text": [
      "Minimum value of Helpfulness 0.0\n",
      "Maximum value of Helpfulness 3.0\n",
      "Average value of Helpfulness 0.4078619474101317\n",
      "Standard deviation of Helpfulness 0.46206838814307344\n"
     ]
    }
   ],
   "source": [
    "#The HelpfulnessNumerator\n",
    "print(\"Minimum value of Helpfulness\",df[\"Helpfulness\"].min())\n",
    "print(\"Maximum value of Helpfulness\",df[\"Helpfulness\"].max())\n",
    "print(\"Average value of Helpfulness\",df[\"Helpfulness\"].mean())\n",
    "print(\"Standard deviation of Helpfulness\",df[\"Helpfulness\"].std()) "
   ]
  },
  {
   "cell_type": "code",
   "execution_count": 14,
   "id": "1d07196f",
   "metadata": {},
   "outputs": [
    {
     "data": {
      "text/plain": [
       "(array([3.11171e+05, 3.21600e+04, 3.55760e+04, 1.89545e+05, 0.00000e+00,\n",
       "        1.00000e+00, 0.00000e+00, 0.00000e+00, 0.00000e+00, 1.00000e+00]),\n",
       " array([0. , 0.3, 0.6, 0.9, 1.2, 1.5, 1.8, 2.1, 2.4, 2.7, 3. ]),\n",
       " <BarContainer object of 10 artists>)"
      ]
     },
     "execution_count": 14,
     "metadata": {},
     "output_type": "execute_result"
    },
    {
     "data": {
      "image/png": "[encoded data removed]",
      "text/plain": [
       "<Figure size 640x480 with 1 Axes>"
      ]
     },
     "metadata": {},
     "output_type": "display_data"
    }
   ],
   "source": [
    "#distribution of helpfulness\n",
    "plt.hist(df[\"Helpfulness\"])"
   ]
  },
  {
   "cell_type": "code",
   "execution_count": 15,
   "id": "ff747293",
   "metadata": {},
   "outputs": [],
   "source": [
    "#creating a function to label Helpfulness\n",
    "def helpful(value):\n",
    "    if value>0.5:\n",
    "        return \">0.5\"\n",
    "    elif value<0.5 and value>0.25:\n",
    "        return \"<0.5\"\n",
    "    else:\n",
    "        return \"Useless\"\n",
    "    \n",
    "\n",
    "    "
   ]
  },
  {
   "cell_type": "code",
   "execution_count": 16,
   "id": "9f296431",
   "metadata": {},
   "outputs": [],
   "source": [
    "from tqdm import tqdm, tqdm_notebook"
   ]
  },
  {
   "cell_type": "code",
   "execution_count": 17,
   "id": "c2aec5e6",
   "metadata": {},
   "outputs": [],
   "source": [
    "# Register `pandas.progress_apply` and `pandas.Series.map_apply` with `tqdm`\n",
    "\n",
    "tqdm.pandas()"
   ]
  },
  {
   "cell_type": "code",
   "execution_count": 18,
   "id": "dd8d82e6",
   "metadata": {},
   "outputs": [
    {
     "name": "stderr",
     "output_type": "stream",
     "text": [
      "100%|██████████████████████████████████████████████████████████████████████| 568454/568454 [00:01<00:00, 526409.67it/s]\n"
     ]
    }
   ],
   "source": [
    "#creating new column for label encoding the helpfuness column\n",
    "df[\"HelpfulnessLabel\"]=df[\"Helpfulness\"].progress_apply(lambda x:helpful(x)) "
   ]
  },
  {
   "cell_type": "code",
   "execution_count": 19,
   "id": "e6f3da58",
   "metadata": {},
   "outputs": [
    {
     "data": {
      "text/html": [
       "<div>\n",
       "<style scoped>\n",
       "    .dataframe tbody tr th:only-of-type {\n",
       "        vertical-align: middle;\n",
       "    }\n",
       "\n",
       "    .dataframe tbody tr th {\n",
       "        vertical-align: top;\n",
       "    }\n",
       "\n",
       "    .dataframe thead th {\n",
       "        text-align: right;\n",
       "    }\n",
       "</style>\n",
       "<table border=\"1\" class=\"dataframe\">\n",
       "  <thead>\n",
       "    <tr style=\"text-align: right;\">\n",
       "      <th></th>\n",
       "      <th>UniqueRowNo</th>\n",
       "      <th>ProductId</th>\n",
       "      <th>UserId</th>\n",
       "      <th>ProfileName</th>\n",
       "      <th>HelpfulnessNumerator</th>\n",
       "      <th>HelpfulnessDenominator</th>\n",
       "      <th>Score</th>\n",
       "      <th>Time</th>\n",
       "      <th>ReviewSummary</th>\n",
       "      <th>ReviewText</th>\n",
       "      <th>text</th>\n",
       "      <th>Helpfulness</th>\n",
       "      <th>HelpfulnessLabel</th>\n",
       "    </tr>\n",
       "  </thead>\n",
       "  <tbody>\n",
       "    <tr>\n",
       "      <th>0</th>\n",
       "      <td>1</td>\n",
       "      <td>B001E4KFG0</td>\n",
       "      <td>A3SGXH7AUHU8GW</td>\n",
       "      <td>delmartian</td>\n",
       "      <td>1</td>\n",
       "      <td>1</td>\n",
       "      <td>5</td>\n",
       "      <td>1303862400</td>\n",
       "      <td>Good Quality Dog Food</td>\n",
       "      <td>I have bought several of the Vitality canned ...</td>\n",
       "      <td>Good Quality Dog Food  I have bought several ...</td>\n",
       "      <td>1.0</td>\n",
       "      <td>&gt;0.5</td>\n",
       "    </tr>\n",
       "    <tr>\n",
       "      <th>1</th>\n",
       "      <td>2</td>\n",
       "      <td>B00813GRG4</td>\n",
       "      <td>A1D87F6ZCVE5NK</td>\n",
       "      <td>dll pa</td>\n",
       "      <td>0</td>\n",
       "      <td>0</td>\n",
       "      <td>1</td>\n",
       "      <td>1346976000</td>\n",
       "      <td>Not as Advertised</td>\n",
       "      <td>Product arrived labeled as Jumbo Salted Peanu...</td>\n",
       "      <td>Not as Advertised  Product arrived labeled as...</td>\n",
       "      <td>0.0</td>\n",
       "      <td>Useless</td>\n",
       "    </tr>\n",
       "    <tr>\n",
       "      <th>2</th>\n",
       "      <td>3</td>\n",
       "      <td>B000LQOCH0</td>\n",
       "      <td>ABXLMWJIXXAIN</td>\n",
       "      <td>Natalia Corres \"Natalia Corres\"</td>\n",
       "      <td>1</td>\n",
       "      <td>1</td>\n",
       "      <td>4</td>\n",
       "      <td>1219017600</td>\n",
       "      <td>\"Delight\" says it all</td>\n",
       "      <td>This is a confection that has been around a f...</td>\n",
       "      <td>\"Delight\" says it all  This is a confection t...</td>\n",
       "      <td>1.0</td>\n",
       "      <td>&gt;0.5</td>\n",
       "    </tr>\n",
       "    <tr>\n",
       "      <th>3</th>\n",
       "      <td>4</td>\n",
       "      <td>B000UA0QIQ</td>\n",
       "      <td>A395BORC6FGVXV</td>\n",
       "      <td>Karl</td>\n",
       "      <td>3</td>\n",
       "      <td>3</td>\n",
       "      <td>2</td>\n",
       "      <td>1307923200</td>\n",
       "      <td>Cough Medicine</td>\n",
       "      <td>If you are looking for the secret ingredient ...</td>\n",
       "      <td>Cough Medicine  If you are looking for the se...</td>\n",
       "      <td>1.0</td>\n",
       "      <td>&gt;0.5</td>\n",
       "    </tr>\n",
       "    <tr>\n",
       "      <th>4</th>\n",
       "      <td>5</td>\n",
       "      <td>B006K2ZZ7K</td>\n",
       "      <td>A1UQRSCLF8GW1T</td>\n",
       "      <td>Michael D. Bigham \"M. Wassir\"</td>\n",
       "      <td>0</td>\n",
       "      <td>0</td>\n",
       "      <td>5</td>\n",
       "      <td>1350777600</td>\n",
       "      <td>Great taffy</td>\n",
       "      <td>Great taffy at a great price.  There was a wi...</td>\n",
       "      <td>Great taffy  Great taffy at a great price.  T...</td>\n",
       "      <td>0.0</td>\n",
       "      <td>Useless</td>\n",
       "    </tr>\n",
       "  </tbody>\n",
       "</table>\n",
       "</div>"
      ],
      "text/plain": [
       "   UniqueRowNo    ProductId           UserId  \\\n",
       "0            1   B001E4KFG0   A3SGXH7AUHU8GW   \n",
       "1            2   B00813GRG4   A1D87F6ZCVE5NK   \n",
       "2            3   B000LQOCH0    ABXLMWJIXXAIN   \n",
       "3            4   B000UA0QIQ   A395BORC6FGVXV   \n",
       "4            5   B006K2ZZ7K   A1UQRSCLF8GW1T   \n",
       "\n",
       "                        ProfileName  HelpfulnessNumerator  \\\n",
       "0                        delmartian                     1   \n",
       "1                            dll pa                     0   \n",
       "2   Natalia Corres \"Natalia Corres\"                     1   \n",
       "3                              Karl                     3   \n",
       "4     Michael D. Bigham \"M. Wassir\"                     0   \n",
       "\n",
       "   HelpfulnessDenominator  Score        Time           ReviewSummary  \\\n",
       "0                       1      5  1303862400   Good Quality Dog Food   \n",
       "1                       0      1  1346976000       Not as Advertised   \n",
       "2                       1      4  1219017600   \"Delight\" says it all   \n",
       "3                       3      2  1307923200          Cough Medicine   \n",
       "4                       0      5  1350777600             Great taffy   \n",
       "\n",
       "                                          ReviewText  \\\n",
       "0   I have bought several of the Vitality canned ...   \n",
       "1   Product arrived labeled as Jumbo Salted Peanu...   \n",
       "2   This is a confection that has been around a f...   \n",
       "3   If you are looking for the secret ingredient ...   \n",
       "4   Great taffy at a great price.  There was a wi...   \n",
       "\n",
       "                                                text  Helpfulness  \\\n",
       "0   Good Quality Dog Food  I have bought several ...          1.0   \n",
       "1   Not as Advertised  Product arrived labeled as...          0.0   \n",
       "2   \"Delight\" says it all  This is a confection t...          1.0   \n",
       "3   Cough Medicine  If you are looking for the se...          1.0   \n",
       "4   Great taffy  Great taffy at a great price.  T...          0.0   \n",
       "\n",
       "  HelpfulnessLabel  \n",
       "0             >0.5  \n",
       "1          Useless  \n",
       "2             >0.5  \n",
       "3             >0.5  \n",
       "4          Useless  "
      ]
     },
     "execution_count": 19,
     "metadata": {},
     "output_type": "execute_result"
    }
   ],
   "source": [
    "df.head()"
   ]
  },
  {
   "cell_type": "code",
   "execution_count": 20,
   "id": "44dd640e",
   "metadata": {},
   "outputs": [
    {
     "data": {
      "text/plain": [
       "(568454, 13)"
      ]
     },
     "execution_count": 20,
     "metadata": {},
     "output_type": "execute_result"
    }
   ],
   "source": [
    "df.shape"
   ]
  },
  {
   "cell_type": "markdown",
   "id": "a6b8a76b",
   "metadata": {},
   "source": [
    "### machine learning "
   ]
  },
  {
   "cell_type": "code",
   "execution_count": 21,
   "id": "815a9c58",
   "metadata": {},
   "outputs": [],
   "source": [
    "X=df[[\"text\"]]\n",
    "y=df[[\"Score\"]]  "
   ]
  },
  {
   "cell_type": "code",
   "execution_count": 22,
   "id": "50e0db80",
   "metadata": {},
   "outputs": [],
   "source": [
    "# Splitting into train and test\n",
    "\n",
    "from sklearn.model_selection import train_test_split\n",
    "\n",
    "X_train, X_test, y_train, y_test = train_test_split(X, y, test_size=0.25, random_state=52) "
   ]
  },
  {
   "cell_type": "code",
   "execution_count": 23,
   "id": "07afe527",
   "metadata": {},
   "outputs": [
    {
     "name": "stdout",
     "output_type": "stream",
     "text": [
      "(426340, 1) (426340, 1)\n",
      "(142114, 1) (142114, 1)\n"
     ]
    }
   ],
   "source": [
    "print(X_train.shape,y_train.shape)\n",
    "print(X_test.shape,y_test.shape) "
   ]
  },
  {
   "cell_type": "code",
   "execution_count": 24,
   "id": "ecd23cd6",
   "metadata": {},
   "outputs": [
    {
     "name": "stderr",
     "output_type": "stream",
     "text": [
      "[nltk_data] Downloading package stopwords to\n",
      "[nltk_data]     C:\\Users\\admin\\AppData\\Roaming\\nltk_data...\n",
      "[nltk_data]   Package stopwords is already up-to-date!\n",
      "[nltk_data] Downloading package wordnet to\n",
      "[nltk_data]     C:\\Users\\admin\\AppData\\Roaming\\nltk_data...\n",
      "[nltk_data]   Package wordnet is already up-to-date!\n",
      "[nltk_data] Downloading package omw-1.4 to\n",
      "[nltk_data]     C:\\Users\\admin\\AppData\\Roaming\\nltk_data...\n",
      "[nltk_data]   Package omw-1.4 is already up-to-date!\n"
     ]
    },
    {
     "data": {
      "text/plain": [
       "True"
      ]
     },
     "execution_count": 24,
     "metadata": {},
     "output_type": "execute_result"
    }
   ],
   "source": [
    "import nltk\n",
    "nltk.download('stopwords')\n",
    "# Downloading wordnet before applying Lemmatizer\n",
    "nltk.download('wordnet')\n",
    "nltk.download('omw-1.4')"
   ]
  },
  {
   "cell_type": "code",
   "execution_count": 25,
   "id": "0e907239",
   "metadata": {},
   "outputs": [],
   "source": [
    "import re\n",
    "import nltk\n",
    "from nltk.tokenize import word_tokenize\n",
    "from nltk.corpus import stopwords\n",
    "from nltk.stem import WordNetLemmatizer"
   ]
  },
  {
   "cell_type": "code",
   "execution_count": 26,
   "id": "a421af8f",
   "metadata": {},
   "outputs": [],
   "source": [
    "##  Lemmatizer\n",
    "lemmatizer = WordNetLemmatizer() "
   ]
  },
  {
   "cell_type": "code",
   "execution_count": 27,
   "id": "f99aa67f",
   "metadata": {},
   "outputs": [],
   "source": [
    "def preprocess(raw_text):\n",
    "    # Removing special characters and digits\n",
    "    sentence = re.sub(\"[^a-zA-Z]\", \" \", raw_text)\n",
    "\n",
    "    # change sentence to lower case\n",
    "    sentence = sentence.lower()\n",
    "\n",
    "    # tokenize into words\n",
    "    tokens = sentence.split()\n",
    "\n",
    "    # remove stop words\n",
    "    clean_tokens = [t for t in tokens if t not in stopwords.words(\"english\")]\n",
    "\n",
    "    # Lemmatization\n",
    "\n",
    "    clean_tokens = [lemmatizer.lemmatize(word) for word in clean_tokens]\n",
    "\n",
    "    return pd.Series([\" \".join(clean_tokens), len(clean_tokens)])"
   ]
  },
  {
   "cell_type": "code",
   "execution_count": 28,
   "id": "6aa192fa",
   "metadata": {},
   "outputs": [
    {
     "data": {
      "text/html": [
       "<div>\n",
       "<style scoped>\n",
       "    .dataframe tbody tr th:only-of-type {\n",
       "        vertical-align: middle;\n",
       "    }\n",
       "\n",
       "    .dataframe tbody tr th {\n",
       "        vertical-align: top;\n",
       "    }\n",
       "\n",
       "    .dataframe thead th {\n",
       "        text-align: right;\n",
       "    }\n",
       "</style>\n",
       "<table border=\"1\" class=\"dataframe\">\n",
       "  <thead>\n",
       "    <tr style=\"text-align: right;\">\n",
       "      <th></th>\n",
       "      <th>text</th>\n",
       "      <th>Score</th>\n",
       "    </tr>\n",
       "  </thead>\n",
       "  <tbody>\n",
       "    <tr>\n",
       "      <th>337276</th>\n",
       "      <td>Good Taste. I might buy it again.  First time...</td>\n",
       "      <td>4</td>\n",
       "    </tr>\n",
       "    <tr>\n",
       "      <th>408872</th>\n",
       "      <td>THE ONLY THING MY 3-YEAR-OLD WILL EAT FOR BRE...</td>\n",
       "      <td>5</td>\n",
       "    </tr>\n",
       "    <tr>\n",
       "      <th>6238</th>\n",
       "      <td>great taste  This BBQ Glaze Shake'N'Bake is g...</td>\n",
       "      <td>5</td>\n",
       "    </tr>\n",
       "    <tr>\n",
       "      <th>109842</th>\n",
       "      <td>Bold yet not too bitter  This coffee is BOLD....</td>\n",
       "      <td>5</td>\n",
       "    </tr>\n",
       "    <tr>\n",
       "      <th>105103</th>\n",
       "      <td>my kids love it  This is a great cereal, both...</td>\n",
       "      <td>4</td>\n",
       "    </tr>\n",
       "  </tbody>\n",
       "</table>\n",
       "</div>"
      ],
      "text/plain": [
       "                                                     text  Score\n",
       "337276   Good Taste. I might buy it again.  First time...      4\n",
       "408872   THE ONLY THING MY 3-YEAR-OLD WILL EAT FOR BRE...      5\n",
       "6238     great taste  This BBQ Glaze Shake'N'Bake is g...      5\n",
       "109842   Bold yet not too bitter  This coffee is BOLD....      5\n",
       "105103   my kids love it  This is a great cereal, both...      4"
      ]
     },
     "execution_count": 28,
     "metadata": {},
     "output_type": "execute_result"
    }
   ],
   "source": [
    "#concatenating the x train and  y train\n",
    "train_data=pd.concat([X_train,y_train],axis=1)\n",
    "train_data.head()"
   ]
  },
  {
   "cell_type": "code",
   "execution_count": 8,
   "id": "f90358c8",
   "metadata": {},
   "outputs": [
    {
     "data": {
      "text/html": [
       "<div>\n",
       "<style scoped>\n",
       "    .dataframe tbody tr th:only-of-type {\n",
       "        vertical-align: middle;\n",
       "    }\n",
       "\n",
       "    .dataframe tbody tr th {\n",
       "        vertical-align: top;\n",
       "    }\n",
       "\n",
       "    .dataframe thead th {\n",
       "        text-align: right;\n",
       "    }\n",
       "</style>\n",
       "<table border=\"1\" class=\"dataframe\">\n",
       "  <thead>\n",
       "    <tr style=\"text-align: right;\">\n",
       "      <th></th>\n",
       "      <th>Unnamed: 0</th>\n",
       "      <th>text</th>\n",
       "      <th>Score</th>\n",
       "    </tr>\n",
       "  </thead>\n",
       "  <tbody>\n",
       "    <tr>\n",
       "      <th>0</th>\n",
       "      <td>337276</td>\n",
       "      <td>Good Taste. I might buy it again.  First time...</td>\n",
       "      <td>4</td>\n",
       "    </tr>\n",
       "    <tr>\n",
       "      <th>1</th>\n",
       "      <td>408872</td>\n",
       "      <td>THE ONLY THING MY 3-YEAR-OLD WILL EAT FOR BRE...</td>\n",
       "      <td>5</td>\n",
       "    </tr>\n",
       "    <tr>\n",
       "      <th>2</th>\n",
       "      <td>6238</td>\n",
       "      <td>great taste  This BBQ Glaze Shake'N'Bake is g...</td>\n",
       "      <td>5</td>\n",
       "    </tr>\n",
       "    <tr>\n",
       "      <th>3</th>\n",
       "      <td>109842</td>\n",
       "      <td>Bold yet not too bitter  This coffee is BOLD....</td>\n",
       "      <td>5</td>\n",
       "    </tr>\n",
       "    <tr>\n",
       "      <th>4</th>\n",
       "      <td>105103</td>\n",
       "      <td>my kids love it  This is a great cereal, both...</td>\n",
       "      <td>4</td>\n",
       "    </tr>\n",
       "  </tbody>\n",
       "</table>\n",
       "</div>"
      ],
      "text/plain": [
       "   Unnamed: 0                                               text  Score\n",
       "0      337276   Good Taste. I might buy it again.  First time...      4\n",
       "1      408872   THE ONLY THING MY 3-YEAR-OLD WILL EAT FOR BRE...      5\n",
       "2        6238   great taste  This BBQ Glaze Shake'N'Bake is g...      5\n",
       "3      109842   Bold yet not too bitter  This coffee is BOLD....      5\n",
       "4      105103   my kids love it  This is a great cereal, both...      4"
      ]
     },
     "execution_count": 8,
     "metadata": {},
     "output_type": "execute_result"
    }
   ],
   "source": [
    "train_data=pd.read_csv(\"cleaned_train_data.csv\")\n",
    "train_data.head()"
   ]
  },
  {
   "cell_type": "code",
   "execution_count": 9,
   "id": "06ec2d8f",
   "metadata": {},
   "outputs": [
    {
     "data": {
      "text/plain": [
       "(426340, 3)"
      ]
     },
     "execution_count": 9,
     "metadata": {},
     "output_type": "execute_result"
    }
   ],
   "source": [
    "train_data.shape"
   ]
  },
  {
   "cell_type": "code",
   "execution_count": 10,
   "id": "a1909a7b",
   "metadata": {},
   "outputs": [
    {
     "data": {
      "text/plain": [
       "Unnamed: 0    0\n",
       "text          0\n",
       "Score         0\n",
       "dtype: int64"
      ]
     },
     "execution_count": 10,
     "metadata": {},
     "output_type": "execute_result"
    }
   ],
   "source": [
    "train_data.isnull().sum() "
   ]
  },
  {
   "cell_type": "code",
   "execution_count": 11,
   "id": "e0ffd6fc",
   "metadata": {},
   "outputs": [],
   "source": [
    "#seperating X train and y train\n",
    "X_train=train_data[\"text\"]\n",
    "y_train=train_data[\"Score\"]"
   ]
  },
  {
   "cell_type": "code",
   "execution_count": 12,
   "id": "bc126939",
   "metadata": {},
   "outputs": [
    {
     "data": {
      "text/plain": [
       "0          Good Taste. I might buy it again.  First time...\n",
       "1          THE ONLY THING MY 3-YEAR-OLD WILL EAT FOR BRE...\n",
       "2          great taste  This BBQ Glaze Shake'N'Bake is g...\n",
       "3          Bold yet not too bitter  This coffee is BOLD....\n",
       "4          my kids love it  This is a great cereal, both...\n",
       "                                ...                        \n",
       "426335     French Roast in a K Cup  Green Mountain Frenc...\n",
       "426336     YUM! If you want a snack, have something REAL...\n",
       "426337     Calebaut chocolate callets (drops)  Calebaut ...\n",
       "426338     I can't  My purchase never arrived. And no on...\n",
       "426339     old, brittle, dry bars  the bars i received a...\n",
       "Name: text, Length: 426340, dtype: object"
      ]
     },
     "execution_count": 12,
     "metadata": {},
     "output_type": "execute_result"
    }
   ],
   "source": [
    "X_train "
   ]
  },
  {
   "cell_type": "code",
   "execution_count": 16,
   "id": "1025aa4f",
   "metadata": {},
   "outputs": [
    {
     "data": {
      "text/html": [
       "<div>\n",
       "<style scoped>\n",
       "    .dataframe tbody tr th:only-of-type {\n",
       "        vertical-align: middle;\n",
       "    }\n",
       "\n",
       "    .dataframe tbody tr th {\n",
       "        vertical-align: top;\n",
       "    }\n",
       "\n",
       "    .dataframe thead th {\n",
       "        text-align: right;\n",
       "    }\n",
       "</style>\n",
       "<table border=\"1\" class=\"dataframe\">\n",
       "  <thead>\n",
       "    <tr style=\"text-align: right;\">\n",
       "      <th></th>\n",
       "      <th>Unnamed: 0</th>\n",
       "      <th>text</th>\n",
       "      <th>Score</th>\n",
       "      <th>cleaned_text</th>\n",
       "      <th>len_cleaned_text</th>\n",
       "    </tr>\n",
       "  </thead>\n",
       "  <tbody>\n",
       "    <tr>\n",
       "      <th>0</th>\n",
       "      <td>479184</td>\n",
       "      <td>Hard to find  The Bresaola Dry Cure Meat is v...</td>\n",
       "      <td>4</td>\n",
       "      <td>hard find bresaola dry cure meat good excellen...</td>\n",
       "      <td>14</td>\n",
       "    </tr>\n",
       "    <tr>\n",
       "      <th>1</th>\n",
       "      <td>304707</td>\n",
       "      <td>Great Taste  Everyone in our family liked the...</td>\n",
       "      <td>5</td>\n",
       "      <td>great taste everyone family liked chip great t...</td>\n",
       "      <td>15</td>\n",
       "    </tr>\n",
       "    <tr>\n",
       "      <th>2</th>\n",
       "      <td>92911</td>\n",
       "      <td>Be prepared to add ingredients like broccoli ...</td>\n",
       "      <td>3</td>\n",
       "      <td>prepared add ingredient like broccoli quick me...</td>\n",
       "      <td>74</td>\n",
       "    </tr>\n",
       "    <tr>\n",
       "      <th>3</th>\n",
       "      <td>365944</td>\n",
       "      <td>Great product  I was searching for a Horlicks...</td>\n",
       "      <td>5</td>\n",
       "      <td>great product searching horlicks type powder p...</td>\n",
       "      <td>33</td>\n",
       "    </tr>\n",
       "    <tr>\n",
       "      <th>4</th>\n",
       "      <td>85239</td>\n",
       "      <td>Great taste, great value @ $2/bottle!  Gamble...</td>\n",
       "      <td>4</td>\n",
       "      <td>great taste great value bottle gambled bought ...</td>\n",
       "      <td>19</td>\n",
       "    </tr>\n",
       "  </tbody>\n",
       "</table>\n",
       "</div>"
      ],
      "text/plain": [
       "   Unnamed: 0                                               text  Score  \\\n",
       "0      479184   Hard to find  The Bresaola Dry Cure Meat is v...      4   \n",
       "1      304707   Great Taste  Everyone in our family liked the...      5   \n",
       "2       92911   Be prepared to add ingredients like broccoli ...      3   \n",
       "3      365944   Great product  I was searching for a Horlicks...      5   \n",
       "4       85239   Great taste, great value @ $2/bottle!  Gamble...      4   \n",
       "\n",
       "                                        cleaned_text  len_cleaned_text  \n",
       "0  hard find bresaola dry cure meat good excellen...                14  \n",
       "1  great taste everyone family liked chip great t...                15  \n",
       "2  prepared add ingredient like broccoli quick me...                74  \n",
       "3  great product searching horlicks type powder p...                33  \n",
       "4  great taste great value bottle gambled bought ...                19  "
      ]
     },
     "execution_count": 16,
     "metadata": {},
     "output_type": "execute_result"
    }
   ],
   "source": [
    "test_data=pd.read_csv(\"cleaned_test_data.csv\")\n",
    "test_data.head() "
   ]
  },
  {
   "cell_type": "code",
   "execution_count": 17,
   "id": "65745479",
   "metadata": {
    "scrolled": true
   },
   "outputs": [
    {
     "data": {
      "text/plain": [
       "(142114, 5)"
      ]
     },
     "execution_count": 17,
     "metadata": {},
     "output_type": "execute_result"
    }
   ],
   "source": [
    "test_data.shape"
   ]
  },
  {
   "cell_type": "code",
   "execution_count": 18,
   "id": "a1d64568",
   "metadata": {},
   "outputs": [
    {
     "data": {
      "text/plain": [
       "Unnamed: 0          0\n",
       "text                0\n",
       "Score               0\n",
       "cleaned_text        0\n",
       "len_cleaned_text    0\n",
       "dtype: int64"
      ]
     },
     "execution_count": 18,
     "metadata": {},
     "output_type": "execute_result"
    }
   ],
   "source": [
    "test_data.isnull().sum()"
   ]
  },
  {
   "cell_type": "code",
   "execution_count": 19,
   "id": "14b117b1",
   "metadata": {},
   "outputs": [],
   "source": [
    "#seperating X_test and y_test from above data\n",
    "X_test=test_data[\"cleaned_text\"]\n",
    "y_test=test_data[\"Score\"]"
   ]
  },
  {
   "cell_type": "code",
   "execution_count": 20,
   "id": "6c6d15b2",
   "metadata": {},
   "outputs": [],
   "source": [
    "#transforming the test data\n",
    "# using the same vocab instance of TfidfCountVectorizer to only transform the xtest data\n",
    "X_test_transformed = vocab.transform(X_test)  "
   ]
  },
  {
   "cell_type": "markdown",
   "id": "6edd8f5e",
   "metadata": {},
   "source": [
    "#### Model buiding "
   ]
  },
  {
   "cell_type": "code",
   "execution_count": 1,
   "id": "e7717112",
   "metadata": {},
   "outputs": [],
   "source": [
    "import time"
   ]
  },
  {
   "cell_type": "code",
   "execution_count": 2,
   "id": "b9290427",
   "metadata": {},
   "outputs": [],
   "source": [
    "import sys"
   ]
  },
  {
   "cell_type": "code",
   "execution_count": 23,
   "id": "d7dd4004",
   "metadata": {},
   "outputs": [],
   "source": [
    "#!pip install memory-profiler  "
   ]
  },
  {
   "cell_type": "code",
   "execution_count": 25,
   "id": "02de892a",
   "metadata": {},
   "outputs": [
    {
     "data": {
      "text/plain": [
       "['LG_classifier.pkl']"
      ]
     },
     "execution_count": 25,
     "metadata": {},
     "output_type": "execute_result"
    }
   ],
   "source": [
    "import joblib\n"
   ]
  },
  {
   "cell_type": "code",
   "execution_count": 3,
   "id": "9d7c0970",
   "metadata": {},
   "outputs": [],
   "source": [
    "import os"
   ]
  },
  {
   "cell_type": "markdown",
   "id": "cf30733a",
   "metadata": {},
   "source": [
    "#### Using Tfidf"
   ]
  },
  {
   "cell_type": "code",
   "execution_count": 45,
   "id": "b59d7fa0",
   "metadata": {},
   "outputs": [],
   "source": [
    "#aaplying transformation on x train\n",
    "from sklearn.feature_extraction.text import TfidfVectorizer\n",
    "\n",
    "vocab =  TfidfVectorizer()\n",
    "\n",
    "X_train_transformed = vocab.fit_transform(X_train)\n"
   ]
  },
  {
   "cell_type": "code",
   "execution_count": 46,
   "id": "f14644f8",
   "metadata": {},
   "outputs": [
    {
     "name": "stdout",
     "output_type": "stream",
     "text": [
      "Total unique words: 111001\n",
      "Type of train features: <class 'scipy.sparse._csr.csr_matrix'>\n",
      "Shape of input data: (426340, 111001)\n"
     ]
    }
   ],
   "source": [
    "print(\"Total unique words:\", len(vocab.vocabulary_))\n",
    "\n",
    "print(\"Type of train features:\", type(X_train_transformed))\n",
    "\n",
    "print(\"Shape of input data:\", X_train_transformed.shape)"
   ]
  },
  {
   "cell_type": "code",
   "execution_count": 47,
   "id": "324ab98e",
   "metadata": {},
   "outputs": [],
   "source": [
    "#transforming the test data\n",
    "# using the same vocab instance of TfidfCountVectorizer to only transform the xtest data\n",
    "X_test_transformed = vocab.transform(X_test)  "
   ]
  },
  {
   "cell_type": "code",
   "execution_count": 48,
   "id": "8ed8813b",
   "metadata": {},
   "outputs": [
    {
     "name": "stdout",
     "output_type": "stream",
     "text": [
      "The total time taken to train this model :  85.20000052452087\n"
     ]
    },
    {
     "name": "stderr",
     "output_type": "stream",
     "text": [
      "C:\\Users\\admin\\.conda\\lib\\site-packages\\sklearn\\linear_model\\_logistic.py:814: ConvergenceWarning: lbfgs failed to converge (status=1):\n",
      "STOP: TOTAL NO. of ITERATIONS REACHED LIMIT.\n",
      "\n",
      "Increase the number of iterations (max_iter) or scale the data as shown in:\n",
      "    https://scikit-learn.org/stable/modules/preprocessing.html\n",
      "Please also refer to the documentation for alternative solver options:\n",
      "    https://scikit-learn.org/stable/modules/linear_model.html#logistic-regression\n",
      "  n_iter_i = _check_optimize_result(\n"
     ]
    }
   ],
   "source": [
    "from sklearn.linear_model import LogisticRegression\n",
    "\n",
    "LG_classifier=LogisticRegression()\n",
    "st=time.time()\n",
    "LG_classifier.fit(X_train_transformed,y_train)\n",
    "et=time.time()\n",
    "time_taken=et-st\n",
    "print(\"The total time taken to train this model : \",time_taken)"
   ]
  },
  {
   "cell_type": "code",
   "execution_count": 49,
   "id": "7366c0f5",
   "metadata": {},
   "outputs": [
    {
     "name": "stdout",
     "output_type": "stream",
     "text": [
      "Model size (bytes): 4440883\n"
     ]
    }
   ],
   "source": [
    "joblib.dump(LG_classifier, 'LG_classifier_tfidf.pkl')\n",
    "LG_classifier_size_bytes = os.path.getsize('LG_classifier_tfidf.pkl')\n",
    "print(f\"Model size (bytes): {LG_classifier_size_bytes}\")\n"
   ]
  },
  {
   "cell_type": "code",
   "execution_count": 50,
   "id": "fee997fa",
   "metadata": {},
   "outputs": [
    {
     "name": "stdout",
     "output_type": "stream",
     "text": [
      "The total time taken for prediction :  0.10703563690185547\n"
     ]
    }
   ],
   "source": [
    "st=time.time()\n",
    "y_test_pred = LG_classifier.predict(X_test_transformed) \n",
    "et=time.time()\n",
    "print(\"The total time taken for prediction : \",et-st)"
   ]
  },
  {
   "cell_type": "code",
   "execution_count": 51,
   "id": "222ba044",
   "metadata": {},
   "outputs": [
    {
     "name": "stdout",
     "output_type": "stream",
     "text": [
      "0.7381257300477082\n"
     ]
    }
   ],
   "source": [
    "from sklearn.metrics import accuracy_score\n",
    "\n",
    "accuracy_LG=accuracy_score(y_test, y_test_pred)\n",
    "\n",
    "print(accuracy_LG)"
   ]
  },
  {
   "cell_type": "code",
   "execution_count": 52,
   "id": "39f24f5f",
   "metadata": {},
   "outputs": [
    {
     "name": "stdout",
     "output_type": "stream",
     "text": [
      "The total time taken to train this model :  5313.475463151932\n"
     ]
    }
   ],
   "source": [
    "from sklearn.tree import DecisionTreeClassifier\n",
    "DT_classifier=DecisionTreeClassifier()\n",
    "\n",
    "st=time.time()\n",
    "DT_classifier.fit(X_train_transformed,y_train)\n",
    "et=time.time() \n",
    "\n",
    "print(\"The total time taken to train this model : \",et-st)\n"
   ]
  },
  {
   "cell_type": "code",
   "execution_count": 53,
   "id": "55dbd1f1",
   "metadata": {},
   "outputs": [
    {
     "name": "stdout",
     "output_type": "stream",
     "text": [
      "Model size (bytes): 11200234\n"
     ]
    }
   ],
   "source": [
    "#finding the size of the model\n",
    "joblib.dump(DT_classifier, 'DT_classifier_tfidf.pkl')\n",
    "\n",
    "DT_classifier_size_bytes = os.path.getsize('DT_classifier_tfidf.pkl')\n",
    "print(f\"Model size (bytes): {DT_classifier_size_bytes}\")\n"
   ]
  },
  {
   "cell_type": "code",
   "execution_count": 54,
   "id": "906a33e6",
   "metadata": {},
   "outputs": [
    {
     "name": "stdout",
     "output_type": "stream",
     "text": [
      "The total time taken for prediction :  0.31589317321777344\n"
     ]
    }
   ],
   "source": [
    "st=time.time()\n",
    "y_test_pred = DT_classifier.predict(X_test_transformed) \n",
    "et=time.time()\n",
    "\n",
    "print(\"The total time taken for prediction : \",et-st) "
   ]
  },
  {
   "cell_type": "code",
   "execution_count": 55,
   "id": "0cf54d01",
   "metadata": {},
   "outputs": [
    {
     "name": "stdout",
     "output_type": "stream",
     "text": [
      "0.630655670799499\n"
     ]
    }
   ],
   "source": [
    "from sklearn.metrics import accuracy_score\n",
    "\n",
    "accuracy_DT=accuracy_score(y_test, y_test_pred)\n",
    "\n",
    "print(accuracy_DT)"
   ]
  },
  {
   "cell_type": "code",
   "execution_count": 56,
   "id": "a5e1fa61",
   "metadata": {},
   "outputs": [
    {
     "name": "stdout",
     "output_type": "stream",
     "text": [
      "The total time taken to train this model :  7953.580223798752\n"
     ]
    }
   ],
   "source": [
    "from sklearn.ensemble import RandomForestClassifier\n",
    "RF_classifier=RandomForestClassifier()\n",
    "\n",
    "st=time.time()\n",
    "RF_classifier.fit(X_train_transformed,y_train)\n",
    "et=time.time() \n",
    "\n",
    "print(\"The total time taken to train this model : \",et-st)\n"
   ]
  },
  {
   "cell_type": "code",
   "execution_count": 57,
   "id": "3a164e0c",
   "metadata": {},
   "outputs": [
    {
     "name": "stdout",
     "output_type": "stream",
     "text": [
      "Model size (bytes): 2282750311\n"
     ]
    }
   ],
   "source": [
    "#finding the size of the model\n",
    "joblib.dump(RF_classifier, 'RF_classifier_tfidf.pkl')\n",
    "\n",
    "RF_classifier_size_bytes = os.path.getsize('RF_classifier_tfidf.pkl')\n",
    "print(f\"Model size (bytes): {RF_classifier_size_bytes}\")"
   ]
  },
  {
   "cell_type": "code",
   "execution_count": 58,
   "id": "e0cc22c5",
   "metadata": {},
   "outputs": [
    {
     "name": "stdout",
     "output_type": "stream",
     "text": [
      "The total time taken for prediction :  15.880118131637573\n"
     ]
    }
   ],
   "source": [
    "st=time.time()\n",
    "y_test_pred = RF_classifier.predict(X_test_transformed) \n",
    "et=time.time()\n",
    "\n",
    "print(\"The total time taken for prediction : \",et-st)"
   ]
  },
  {
   "cell_type": "code",
   "execution_count": 59,
   "id": "00f737c4",
   "metadata": {},
   "outputs": [
    {
     "name": "stdout",
     "output_type": "stream",
     "text": [
      "0.6715453790618799\n"
     ]
    }
   ],
   "source": [
    "from sklearn.metrics import accuracy_score\n",
    "\n",
    "accuracy_RF=accuracy_score(y_test, y_test_pred)\n",
    "\n",
    "print(accuracy_RF) "
   ]
  },
  {
   "cell_type": "code",
   "execution_count": 60,
   "id": "28722ef1",
   "metadata": {},
   "outputs": [
    {
     "data": {
      "text/html": [
       "<div>\n",
       "<style scoped>\n",
       "    .dataframe tbody tr th:only-of-type {\n",
       "        vertical-align: middle;\n",
       "    }\n",
       "\n",
       "    .dataframe tbody tr th {\n",
       "        vertical-align: top;\n",
       "    }\n",
       "\n",
       "    .dataframe thead th {\n",
       "        text-align: right;\n",
       "    }\n",
       "</style>\n",
       "<table border=\"1\" class=\"dataframe\">\n",
       "  <thead>\n",
       "    <tr style=\"text-align: right;\">\n",
       "      <th></th>\n",
       "      <th>Model</th>\n",
       "      <th>Accuracy</th>\n",
       "      <th>TrainingTime</th>\n",
       "      <th>PredictionTime</th>\n",
       "      <th>size</th>\n",
       "    </tr>\n",
       "  </thead>\n",
       "  <tbody>\n",
       "    <tr>\n",
       "      <th>0</th>\n",
       "      <td>LR_classifier</td>\n",
       "      <td>0.738126</td>\n",
       "      <td>14.2476</td>\n",
       "      <td>0.02633</td>\n",
       "      <td>4440883</td>\n",
       "    </tr>\n",
       "    <tr>\n",
       "      <th>1</th>\n",
       "      <td>DT_classifier</td>\n",
       "      <td>0.630656</td>\n",
       "      <td>2086.1053</td>\n",
       "      <td>0.38093</td>\n",
       "      <td>11200234</td>\n",
       "    </tr>\n",
       "    <tr>\n",
       "      <th>2</th>\n",
       "      <td>RF_classifier</td>\n",
       "      <td>0.671545</td>\n",
       "      <td>2630.5660</td>\n",
       "      <td>9.33100</td>\n",
       "      <td>2282750311</td>\n",
       "    </tr>\n",
       "  </tbody>\n",
       "</table>\n",
       "</div>"
      ],
      "text/plain": [
       "           Model  Accuracy  TrainingTime  PredictionTime        size\n",
       "0  LR_classifier  0.738126       14.2476         0.02633     4440883\n",
       "1  DT_classifier  0.630656     2086.1053         0.38093    11200234\n",
       "2  RF_classifier  0.671545     2630.5660         9.33100  2282750311"
      ]
     },
     "execution_count": 60,
     "metadata": {},
     "output_type": "execute_result"
    }
   ],
   "source": [
    "df_tfidf=pd.DataFrame({\"Model\":[\"LR_classifier\",\"DT_classifier\",\"RF_classifier\"],\n",
    "                     \"Accuracy\":[accuracy_LG,accuracy_DT,accuracy_RF],\n",
    "                     \"TrainingTime\":[14.2476,2086.1053,2630.566],\n",
    "                     \"PredictionTime\":[ 0.02633,0.38093,9.3310],\n",
    "                     \"size\":[LG_classifier_size_bytes,DT_classifier_size_bytes,RF_classifier_size_bytes]})\n",
    "df_tfidf.head()"
   ]
  },
  {
   "cell_type": "code",
   "execution_count": 61,
   "id": "e2436da5",
   "metadata": {},
   "outputs": [],
   "source": [
    "df_tfidf.to_csv(\"df_tfidf.csv\")"
   ]
  },
  {
   "cell_type": "code",
   "execution_count": 20,
   "id": "97193251",
   "metadata": {},
   "outputs": [],
   "source": [
    "df_tf=pd.read_csv(\"df_tfidf.csv\")"
   ]
  },
  {
   "cell_type": "code",
   "execution_count": 21,
   "id": "e2cef364",
   "metadata": {},
   "outputs": [],
   "source": [
    "df_tf.drop(columns=[\"Unnamed: 0\"],inplace=True)"
   ]
  },
  {
   "cell_type": "code",
   "execution_count": 22,
   "id": "85d60c54",
   "metadata": {},
   "outputs": [],
   "source": [
    "\n",
    "size_tf=[4337,10938,2229249]"
   ]
  },
  {
   "cell_type": "code",
   "execution_count": 23,
   "id": "0d929cc6",
   "metadata": {},
   "outputs": [
    {
     "data": {
      "text/html": [
       "<div>\n",
       "<style scoped>\n",
       "    .dataframe tbody tr th:only-of-type {\n",
       "        vertical-align: middle;\n",
       "    }\n",
       "\n",
       "    .dataframe tbody tr th {\n",
       "        vertical-align: top;\n",
       "    }\n",
       "\n",
       "    .dataframe thead th {\n",
       "        text-align: right;\n",
       "    }\n",
       "</style>\n",
       "<table border=\"1\" class=\"dataframe\">\n",
       "  <thead>\n",
       "    <tr style=\"text-align: right;\">\n",
       "      <th></th>\n",
       "      <th>Model</th>\n",
       "      <th>Accuracy</th>\n",
       "      <th>TrainingTime</th>\n",
       "      <th>PredictionTime</th>\n",
       "      <th>size(kb)</th>\n",
       "    </tr>\n",
       "  </thead>\n",
       "  <tbody>\n",
       "    <tr>\n",
       "      <th>0</th>\n",
       "      <td>LR_classifier</td>\n",
       "      <td>73.812573</td>\n",
       "      <td>14.2476</td>\n",
       "      <td>0.02633</td>\n",
       "      <td>4337</td>\n",
       "    </tr>\n",
       "    <tr>\n",
       "      <th>1</th>\n",
       "      <td>DT_classifier</td>\n",
       "      <td>63.065567</td>\n",
       "      <td>2086.1053</td>\n",
       "      <td>0.38093</td>\n",
       "      <td>10938</td>\n",
       "    </tr>\n",
       "    <tr>\n",
       "      <th>2</th>\n",
       "      <td>RF_classifier</td>\n",
       "      <td>67.154538</td>\n",
       "      <td>2630.5660</td>\n",
       "      <td>9.33100</td>\n",
       "      <td>2229249</td>\n",
       "    </tr>\n",
       "  </tbody>\n",
       "</table>\n",
       "</div>"
      ],
      "text/plain": [
       "           Model   Accuracy  TrainingTime  PredictionTime  size(kb)\n",
       "0  LR_classifier  73.812573       14.2476         0.02633      4337\n",
       "1  DT_classifier  63.065567     2086.1053         0.38093     10938\n",
       "2  RF_classifier  67.154538     2630.5660         9.33100   2229249"
      ]
     },
     "execution_count": 23,
     "metadata": {},
     "output_type": "execute_result"
    }
   ],
   "source": [
    "\n",
    "df_tf[\"size\"]=size_tf\n",
    "df_tf[\"Accuracy\"]=df_tf[\"Accuracy\"]*100\n",
    "df_tf.columns\n",
    "df_tf.columns=['Model', 'Accuracy', 'TrainingTime', 'PredictionTime', 'size(kb)']\n",
    "df_tf.head()"
   ]
  },
  {
   "cell_type": "code",
   "execution_count": 25,
   "id": "0e56ea9f",
   "metadata": {},
   "outputs": [
    {
     "data": {
      "text/plain": [
       "<AxesSubplot:xlabel='Model', ylabel='Accuracy'>"
      ]
     },
     "execution_count": 25,
     "metadata": {},
     "output_type": "execute_result"
    },
    {
     "data": {
      "image/png": "[encoded data removed]",
      "text/plain": [
       "<Figure size 640x480 with 1 Axes>"
      ]
     },
     "metadata": {},
     "output_type": "display_data"
    }
   ],
   "source": [
    "sns.barplot(data=df_tf,y=\"Accuracy\",x=\"Model\") "
   ]
  },
  {
   "cell_type": "code",
   "execution_count": 26,
   "id": "fe6ce1af",
   "metadata": {},
   "outputs": [
    {
     "data": {
      "text/plain": [
       "<AxesSubplot:xlabel='Model', ylabel='TrainingTime'>"
      ]
     },
     "execution_count": 26,
     "metadata": {},
     "output_type": "execute_result"
    },
    {
     "data": {
      "image/png": "[encoded data removed]",
      "text/plain": [
       "<Figure size 640x480 with 1 Axes>"
      ]
     },
     "metadata": {},
     "output_type": "display_data"
    }
   ],
   "source": [
    "sns.barplot(data=df_tf,x=\"Model\",y=\"TrainingTime\")"
   ]
  },
  {
   "cell_type": "code",
   "execution_count": 28,
   "id": "44a4c9b2",
   "metadata": {},
   "outputs": [
    {
     "data": {
      "text/plain": [
       "<AxesSubplot:xlabel='Model', ylabel='PredictionTime'>"
      ]
     },
     "execution_count": 28,
     "metadata": {},
     "output_type": "execute_result"
    },
    {
     "data": {
      "image/png": "[encoded data removed]",
      "text/plain": [
       "<Figure size 640x480 with 1 Axes>"
      ]
     },
     "metadata": {},
     "output_type": "display_data"
    }
   ],
   "source": [
    "sns.barplot(data=df_tf,x=\"Model\",y=\"PredictionTime\")"
   ]
  },
  {
   "cell_type": "code",
   "execution_count": 65,
   "id": "8208b228",
   "metadata": {},
   "outputs": [
    {
     "data": {
      "text/plain": [
       "<AxesSubplot:xlabel='size', ylabel='Model'>"
      ]
     },
     "execution_count": 65,
     "metadata": {},
     "output_type": "execute_result"
    },
    {
     "data": {
      "image/png": "[encoded data removed]",
      "text/plain": [
       "<Figure size 640x480 with 1 Axes>"
      ]
     },
     "metadata": {},
     "output_type": "display_data"
    }
   ],
   "source": [
    "sns.barplot(data=df_bow,x=\"size\",y=\"Model\")"
   ]
  },
  {
   "cell_type": "code",
   "execution_count": 29,
   "id": "da1086a2",
   "metadata": {},
   "outputs": [],
   "source": [
    "import pickle\n"
   ]
  },
  {
   "cell_type": "code",
   "execution_count": 30,
   "id": "b1d54e40",
   "metadata": {},
   "outputs": [],
   "source": [
    "#filename=\"trained_LR_model_sentiment.sav\"\n",
    "#pickle.dump(LG_classifier,open(filename,\"wb\"))\n"
   ]
  },
  {
   "cell_type": "code",
   "execution_count": 31,
   "id": "bfe892b0",
   "metadata": {},
   "outputs": [],
   "source": [
    "loaded_LR_model=pickle.load(open(\"trained_LR_model_sentiment.sav\",\"rb\"))"
   ]
  },
  {
   "cell_type": "code",
   "execution_count": 32,
   "id": "e6459665",
   "metadata": {},
   "outputs": [],
   "source": [
    "#vectorizer_filename=\"CountVectorizer.sav\"\n",
    "#pickle.dump(vocab,open(vectorizer_filename,\"wb\"))"
   ]
  },
  {
   "cell_type": "code",
   "execution_count": 33,
   "id": "30ff6650",
   "metadata": {},
   "outputs": [],
   "source": [
    "\n",
    "loaded_vectorizer=pickle.load(open(\"CountVectorizer.sav\",\"rb\"))"
   ]
  },
  {
   "cell_type": "code",
   "execution_count": 37,
   "id": "c93f05e5",
   "metadata": {},
   "outputs": [
    {
     "name": "stdout",
     "output_type": "stream",
     "text": [
      "[5]\n"
     ]
    }
   ],
   "source": [
    " \n",
    "# Text input for prediction\n",
    "\n",
    "\n",
    "# Preprocess the text input (cleaning, tokenization, etc., if needed)\n",
    "preprocessed_text =[\"good\"]\n",
    "\n",
    "# Vectorize the preprocessed text using the loaded TF-IDF vectorizer\n",
    "text_vector = loaded_vectorizer.transform(preprocessed_text)\n",
    "\n",
    "# Make predictions using the loaded model\n",
    "sentiment_prediction = loaded_LR_model.predict(text_vector)\n",
    "\n",
    "print(sentiment_prediction)     \n"
   ]
  }
 ],
 "metadata": {
  "kernelspec": {
   "display_name": "Python 3 (ipykernel)",
   "language": "python",
   "name": "python3"
  },
  "language_info": {
   "codemirror_mode": {
    "name": "ipython",
    "version": 3
   },
   "file_extension": ".py",
   "mimetype": "text/x-python",
   "name": "python",
   "nbconvert_exporter": "python",
   "pygments_lexer": "ipython3",
   "version": "3.9.13"
  }
 },
 "nbformat": 4,
 "nbformat_minor": 5
}
